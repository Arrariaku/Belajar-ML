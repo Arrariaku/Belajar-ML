{
 "cells": [
  {
   "cell_type": "markdown",
   "metadata": {},
   "source": [
    "- SINGLE PERCEPTRON\n",
    "    x = input.\n",
    "    w = bobot.\n",
    "    b = bias.\n",
    "    y = output.\n",
    "\n",
    "    dengan rumus:\n",
    "    $$y = \\sum_{1 = 0}^{n} x1 \\cdot b1 + b$$ "
   ]
  },
  {
   "cell_type": "markdown",
   "metadata": {},
   "source": [
    "$$z = \\frac{1}{1 + e^{-y}}$$"
   ]
  }
 ],
 "metadata": {
  "language_info": {
   "name": "python"
  },
  "orig_nbformat": 4
 },
 "nbformat": 4,
 "nbformat_minor": 2
}
