{
 "cells": [
  {
   "cell_type": "markdown",
   "metadata": {},
   "source": [
    "Nomor 1"
   ]
  },
  {
   "cell_type": "code",
   "execution_count": 2,
   "metadata": {},
   "outputs": [],
   "source": [
    "def cetak():\n",
    "    for i in range(10):\n",
    "        print(\"Belajar Python Itu menyenagkan!!\")"
   ]
  },
  {
   "cell_type": "code",
   "execution_count": 3,
   "metadata": {},
   "outputs": [
    {
     "name": "stdout",
     "output_type": "stream",
     "text": [
      "Belajar Python Itu menyenagkan!!\n",
      "Belajar Python Itu menyenagkan!!\n",
      "Belajar Python Itu menyenagkan!!\n",
      "Belajar Python Itu menyenagkan!!\n",
      "Belajar Python Itu menyenagkan!!\n",
      "Belajar Python Itu menyenagkan!!\n",
      "Belajar Python Itu menyenagkan!!\n",
      "Belajar Python Itu menyenagkan!!\n",
      "Belajar Python Itu menyenagkan!!\n",
      "Belajar Python Itu menyenagkan!!\n"
     ]
    }
   ],
   "source": [
    "cetak()"
   ]
  },
  {
   "cell_type": "markdown",
   "metadata": {},
   "source": [
    "Nomor 2"
   ]
  },
  {
   "cell_type": "code",
   "execution_count": 4,
   "metadata": {},
   "outputs": [],
   "source": [
    "def cetak_teks(x):\n",
    "    for i in range(10):\n",
    "        print(x)"
   ]
  },
  {
   "cell_type": "code",
   "execution_count": 5,
   "metadata": {},
   "outputs": [
    {
     "name": "stdout",
     "output_type": "stream",
     "text": [
      "Belajar Pemrograman Dapat mengasah logika berpikir!!\n",
      "Belajar Pemrograman Dapat mengasah logika berpikir!!\n",
      "Belajar Pemrograman Dapat mengasah logika berpikir!!\n",
      "Belajar Pemrograman Dapat mengasah logika berpikir!!\n",
      "Belajar Pemrograman Dapat mengasah logika berpikir!!\n",
      "Belajar Pemrograman Dapat mengasah logika berpikir!!\n",
      "Belajar Pemrograman Dapat mengasah logika berpikir!!\n",
      "Belajar Pemrograman Dapat mengasah logika berpikir!!\n",
      "Belajar Pemrograman Dapat mengasah logika berpikir!!\n",
      "Belajar Pemrograman Dapat mengasah logika berpikir!!\n"
     ]
    }
   ],
   "source": [
    "cetak_teks(\"Belajar Pemrograman Dapat mengasah logika berpikir!!\")"
   ]
  },
  {
   "cell_type": "markdown",
   "metadata": {},
   "source": [
    "Nomor 3"
   ]
  },
  {
   "cell_type": "code",
   "execution_count": 9,
   "metadata": {},
   "outputs": [],
   "source": [
    "def cetak_teks2(x):\n",
    "    for i in range(10):\n",
    "        print(x)"
   ]
  },
  {
   "cell_type": "code",
   "execution_count": 10,
   "metadata": {},
   "outputs": [
    {
     "name": "stdout",
     "output_type": "stream",
     "text": [
      "haloo\n",
      "haloo\n",
      "haloo\n",
      "haloo\n",
      "haloo\n",
      "haloo\n",
      "haloo\n",
      "haloo\n",
      "haloo\n",
      "haloo\n"
     ]
    }
   ],
   "source": [
    "x = input(\"Masukan Input: \")\n",
    "cetak_teks2(x)\n"
   ]
  },
  {
   "cell_type": "markdown",
   "metadata": {},
   "source": [
    "Nomor 4"
   ]
  },
  {
   "cell_type": "code",
   "execution_count": 11,
   "metadata": {},
   "outputs": [],
   "source": [
    "def cetak_nilai_default(x = \"Selamat belajar python, jangan lupa perbanyak latihan\"):\n",
    "    for i in range(10):\n",
    "        print(x)"
   ]
  },
  {
   "cell_type": "code",
   "execution_count": 12,
   "metadata": {},
   "outputs": [
    {
     "name": "stdout",
     "output_type": "stream",
     "text": [
      "Selamat belajar python, jangan lupa perbanyak latihan\n",
      "Selamat belajar python, jangan lupa perbanyak latihan\n",
      "Selamat belajar python, jangan lupa perbanyak latihan\n",
      "Selamat belajar python, jangan lupa perbanyak latihan\n",
      "Selamat belajar python, jangan lupa perbanyak latihan\n",
      "Selamat belajar python, jangan lupa perbanyak latihan\n",
      "Selamat belajar python, jangan lupa perbanyak latihan\n",
      "Selamat belajar python, jangan lupa perbanyak latihan\n",
      "Selamat belajar python, jangan lupa perbanyak latihan\n",
      "Selamat belajar python, jangan lupa perbanyak latihan\n"
     ]
    }
   ],
   "source": [
    "cetak_nilai_default()"
   ]
  },
  {
   "cell_type": "code",
   "execution_count": 13,
   "metadata": {},
   "outputs": [
    {
     "name": "stdout",
     "output_type": "stream",
     "text": [
      "Oh senangnya, aku senang sekali :D\n",
      "Oh senangnya, aku senang sekali :D\n",
      "Oh senangnya, aku senang sekali :D\n",
      "Oh senangnya, aku senang sekali :D\n",
      "Oh senangnya, aku senang sekali :D\n",
      "Oh senangnya, aku senang sekali :D\n",
      "Oh senangnya, aku senang sekali :D\n",
      "Oh senangnya, aku senang sekali :D\n",
      "Oh senangnya, aku senang sekali :D\n",
      "Oh senangnya, aku senang sekali :D\n"
     ]
    }
   ],
   "source": [
    "cetak_nilai_default(\"Oh senangnya, aku senang sekali :D\")"
   ]
  }
 ],
 "metadata": {
  "interpreter": {
   "hash": "2904d3540033ee027b348a050130884536716f76b96a3feeeacc97fd385b430a"
  },
  "kernelspec": {
   "display_name": "Python 3.10.2 64-bit",
   "language": "python",
   "name": "python3"
  },
  "language_info": {
   "codemirror_mode": {
    "name": "ipython",
    "version": 3
   },
   "file_extension": ".py",
   "mimetype": "text/x-python",
   "name": "python",
   "nbconvert_exporter": "python",
   "pygments_lexer": "ipython3",
   "version": "3.10.2"
  },
  "orig_nbformat": 4
 },
 "nbformat": 4,
 "nbformat_minor": 2
}
