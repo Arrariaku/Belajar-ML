{
  "cells": [
    {
      "cell_type": "code",
      "execution_count": 1,
      "metadata": {
        "id": "8n3G_Z59LnKs"
      },
      "outputs": [],
      "source": [
        "from math import log"
      ]
    },
    {
      "cell_type": "markdown",
      "metadata": {
        "id": "231mE7QxLnKt"
      },
      "source": [
        "## Mean Squared Error"
      ]
    },
    {
      "cell_type": "code",
      "execution_count": 2,
      "metadata": {
        "id": "mh3SswcfLnKu"
      },
      "outputs": [],
      "source": [
        "# calculate mean squared error\n",
        "def mean_squared_error(actual, predicted):\n",
        "    \n",
        "    sum_square_error = 0.0\n",
        "    \n",
        "    for i in range(len(actual)):\n",
        "        sum_square_error += (actual[i] - predicted[i])**2.0\n",
        "    mean_square_error = 1.0 / len(actual) * sum_square_error\n",
        "    return mean_square_error"
      ]
    },
    {
      "cell_type": "markdown",
      "metadata": {
        "id": "oz33qblFLnKu"
      },
      "source": [
        "## Binary Cross Entropy"
      ]
    },
    {
      "cell_type": "code",
      "execution_count": 3,
      "metadata": {
        "id": "njcZyr0hLnKu"
      },
      "outputs": [],
      "source": [
        "# calculate binary cross entropy\n",
        "def binary_cross_entropy(actual, predicted):\n",
        "\n",
        "    sum_score = 0.0\n",
        "    for i in range(len(actual)):\n",
        "        sum_score += actual[i] * log(1e-15 + predicted[i])\n",
        "    mean_sum_score = 1.0 / len(actual) * sum_score\n",
        "    return -mean_sum_score"
      ]
    },
    {
      "cell_type": "markdown",
      "metadata": {
        "id": "oNGJHPrFLnKv"
      },
      "source": [
        "## Categorical Cross Entropy"
      ]
    },
    {
      "cell_type": "code",
      "execution_count": 4,
      "metadata": {
        "id": "0IlBnH9nLnKv"
      },
      "outputs": [],
      "source": [
        "# calculate categorical cross entropy\n",
        "def categorical_cross_entropy(actual, predicted):\n",
        "    \n",
        "    sum_score = 0.0\n",
        "    for i in range(len(actual)):\n",
        "        for j in range(len(actual[i])):\n",
        "            sum_score += actual[i][j] * log(1e-15 + predicted[i][j])\n",
        "    mean_sum_score = 1.0 / len(actual) * sum_score\n",
        "    return -mean_sum_score"
      ]
    },
    {
      "cell_type": "markdown",
      "metadata": {
        "id": "h8j3-V-uLnKv"
      },
      "source": [
        "---"
      ]
    }
  ],
  "metadata": {
    "kernelspec": {
      "display_name": "Python 3",
      "language": "python",
      "name": "python3"
    },
    "language_info": {
      "codemirror_mode": {
        "name": "ipython",
        "version": 3
      },
      "file_extension": ".py",
      "mimetype": "text/x-python",
      "name": "python",
      "nbconvert_exporter": "python",
      "pygments_lexer": "ipython3",
      "version": "3.8.3"
    },
    "colab": {
      "name": "03. Deep Learning - Loss Function.ipynb",
      "provenance": []
    }
  },
  "nbformat": 4,
  "nbformat_minor": 0
}