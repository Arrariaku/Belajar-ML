{
  "cells": [
    {
      "cell_type": "code",
      "execution_count": 1,
      "metadata": {
        "id": "h6NDa3CTyyw_"
      },
      "outputs": [],
      "source": [
        "import numpy as np\n",
        "import pandas as pd\n",
        "import matplotlib.pyplot as plt\n",
        "import seaborn as sns\n",
        "\n",
        "from sklearn.model_selection import train_test_split\n",
        "\n",
        "from keras.models import Sequential\n",
        "from keras.layers import Dense"
      ]
    },
    {
      "cell_type": "code",
      "execution_count": 2,
      "metadata": {
        "id": "rYjzrh58yyxC"
      },
      "outputs": [],
      "source": [
        "plt.style.use('seaborn')"
      ]
    },
    {
      "cell_type": "markdown",
      "metadata": {
        "id": "P_isSKDqyyxE"
      },
      "source": [
        "## Load Datasets"
      ]
    },
    {
      "cell_type": "code",
      "execution_count": 3,
      "metadata": {
        "colab": {
          "base_uri": "https://localhost:8080/",
          "height": 206
        },
        "id": "9A1_CVDEyyxG",
        "outputId": "f64d7299-b666-456d-8a4f-e93711a32a4e"
      },
      "outputs": [
        {
          "data": {
            "text/html": [
              "<div>\n",
              "<style scoped>\n",
              "    .dataframe tbody tr th:only-of-type {\n",
              "        vertical-align: middle;\n",
              "    }\n",
              "\n",
              "    .dataframe tbody tr th {\n",
              "        vertical-align: top;\n",
              "    }\n",
              "\n",
              "    .dataframe thead th {\n",
              "        text-align: right;\n",
              "    }\n",
              "</style>\n",
              "<table border=\"1\" class=\"dataframe\">\n",
              "  <thead>\n",
              "    <tr style=\"text-align: right;\">\n",
              "      <th></th>\n",
              "      <th>preg_times</th>\n",
              "      <th>glucose</th>\n",
              "      <th>blood_press</th>\n",
              "      <th>skin_thickness</th>\n",
              "      <th>insulin</th>\n",
              "      <th>BMI</th>\n",
              "      <th>pedigree</th>\n",
              "      <th>age</th>\n",
              "      <th>class</th>\n",
              "    </tr>\n",
              "  </thead>\n",
              "  <tbody>\n",
              "    <tr>\n",
              "      <th>0</th>\n",
              "      <td>6</td>\n",
              "      <td>148</td>\n",
              "      <td>72</td>\n",
              "      <td>35</td>\n",
              "      <td>0</td>\n",
              "      <td>33.6</td>\n",
              "      <td>0.627</td>\n",
              "      <td>50</td>\n",
              "      <td>1</td>\n",
              "    </tr>\n",
              "    <tr>\n",
              "      <th>1</th>\n",
              "      <td>1</td>\n",
              "      <td>85</td>\n",
              "      <td>66</td>\n",
              "      <td>29</td>\n",
              "      <td>0</td>\n",
              "      <td>26.6</td>\n",
              "      <td>0.351</td>\n",
              "      <td>31</td>\n",
              "      <td>0</td>\n",
              "    </tr>\n",
              "    <tr>\n",
              "      <th>2</th>\n",
              "      <td>8</td>\n",
              "      <td>183</td>\n",
              "      <td>64</td>\n",
              "      <td>0</td>\n",
              "      <td>0</td>\n",
              "      <td>23.3</td>\n",
              "      <td>0.672</td>\n",
              "      <td>32</td>\n",
              "      <td>1</td>\n",
              "    </tr>\n",
              "    <tr>\n",
              "      <th>3</th>\n",
              "      <td>1</td>\n",
              "      <td>89</td>\n",
              "      <td>66</td>\n",
              "      <td>23</td>\n",
              "      <td>94</td>\n",
              "      <td>28.1</td>\n",
              "      <td>0.167</td>\n",
              "      <td>21</td>\n",
              "      <td>0</td>\n",
              "    </tr>\n",
              "    <tr>\n",
              "      <th>4</th>\n",
              "      <td>0</td>\n",
              "      <td>137</td>\n",
              "      <td>40</td>\n",
              "      <td>35</td>\n",
              "      <td>168</td>\n",
              "      <td>43.1</td>\n",
              "      <td>2.288</td>\n",
              "      <td>33</td>\n",
              "      <td>1</td>\n",
              "    </tr>\n",
              "  </tbody>\n",
              "</table>\n",
              "</div>"
            ],
            "text/plain": [
              "   preg_times  glucose  blood_press  skin_thickness  insulin   BMI  pedigree  \\\n",
              "0           6      148           72              35        0  33.6     0.627   \n",
              "1           1       85           66              29        0  26.6     0.351   \n",
              "2           8      183           64               0        0  23.3     0.672   \n",
              "3           1       89           66              23       94  28.1     0.167   \n",
              "4           0      137           40              35      168  43.1     2.288   \n",
              "\n",
              "   age  class  \n",
              "0   50      1  \n",
              "1   31      0  \n",
              "2   32      1  \n",
              "3   21      0  \n",
              "4   33      1  "
            ]
          },
          "execution_count": 3,
          "metadata": {},
          "output_type": "execute_result"
        }
      ],
      "source": [
        "df_diabetes = pd.read_csv('pima_diabetes.csv', names=['preg_times', 'glucose', 'blood_press', 'skin_thickness', 'insulin', 'BMI', 'pedigree', 'age', 'class'])\n",
        "df_diabetes.head()"
      ]
    },
    {
      "cell_type": "code",
      "execution_count": 4,
      "metadata": {
        "colab": {
          "base_uri": "https://localhost:8080/"
        },
        "id": "ai0dgLbIyyxH",
        "outputId": "0ebe6455-b7b0-406e-8e24-bd5a2f0439e7"
      },
      "outputs": [
        {
          "name": "stdout",
          "output_type": "stream",
          "text": [
            "Total data: 768\n",
            "Total features: 9\n"
          ]
        }
      ],
      "source": [
        "print('Total data:', df_diabetes.shape[0])\n",
        "print('Total features:', df_diabetes.shape[1])"
      ]
    },
    {
      "cell_type": "code",
      "execution_count": 5,
      "metadata": {
        "colab": {
          "base_uri": "https://localhost:8080/",
          "height": 433
        },
        "id": "tGZCj2WNyyxH",
        "outputId": "a4ac0cdc-139f-4385-c8ec-f527335e0705"
      },
      "outputs": [
        {
          "name": "stderr",
          "output_type": "stream",
          "text": [
            "C:\\Users\\M. ALANA\\AppData\\Local\\Programs\\Python\\Python310\\lib\\site-packages\\seaborn\\distributions.py:2619: FutureWarning: `distplot` is a deprecated function and will be removed in a future version. Please adapt your code to use either `displot` (a figure-level function with similar flexibility) or `histplot` (an axes-level function for histograms).\n",
            "  warnings.warn(msg, FutureWarning)\n"
          ]
        },
        {
          "data": {
            "text/plain": [
              "<AxesSubplot:xlabel='age', ylabel='Density'>"
            ]
          },
          "execution_count": 5,
          "metadata": {},
          "output_type": "execute_result"
        },
        {
          "data": {
            "image/png": "[encoded data removed]",
            "text/plain": [
              "<Figure size 576x396 with 1 Axes>"
            ]
          },
          "metadata": {},
          "output_type": "display_data"
        }
      ],
      "source": [
        "sns.distplot(df_diabetes['age'])"
      ]
    },
    {
      "cell_type": "code",
      "execution_count": 6,
      "metadata": {
        "colab": {
          "base_uri": "https://localhost:8080/",
          "height": 300
        },
        "id": "nlk3G18SyyxI",
        "outputId": "23cbf837-6937-415c-b3bd-748abcab832e"
      },
      "outputs": [
        {
          "data": {
            "text/html": [
              "<div>\n",
              "<style scoped>\n",
              "    .dataframe tbody tr th:only-of-type {\n",
              "        vertical-align: middle;\n",
              "    }\n",
              "\n",
              "    .dataframe tbody tr th {\n",
              "        vertical-align: top;\n",
              "    }\n",
              "\n",
              "    .dataframe thead th {\n",
              "        text-align: right;\n",
              "    }\n",
              "</style>\n",
              "<table border=\"1\" class=\"dataframe\">\n",
              "  <thead>\n",
              "    <tr style=\"text-align: right;\">\n",
              "      <th></th>\n",
              "      <th>preg_times</th>\n",
              "      <th>glucose</th>\n",
              "      <th>blood_press</th>\n",
              "      <th>skin_thickness</th>\n",
              "      <th>insulin</th>\n",
              "      <th>BMI</th>\n",
              "      <th>pedigree</th>\n",
              "      <th>age</th>\n",
              "      <th>class</th>\n",
              "    </tr>\n",
              "  </thead>\n",
              "  <tbody>\n",
              "    <tr>\n",
              "      <th>count</th>\n",
              "      <td>768.000000</td>\n",
              "      <td>768.000000</td>\n",
              "      <td>768.000000</td>\n",
              "      <td>768.000000</td>\n",
              "      <td>768.000000</td>\n",
              "      <td>768.000000</td>\n",
              "      <td>768.000000</td>\n",
              "      <td>768.000000</td>\n",
              "      <td>768.000000</td>\n",
              "    </tr>\n",
              "    <tr>\n",
              "      <th>mean</th>\n",
              "      <td>3.845052</td>\n",
              "      <td>120.894531</td>\n",
              "      <td>69.105469</td>\n",
              "      <td>20.536458</td>\n",
              "      <td>79.799479</td>\n",
              "      <td>31.992578</td>\n",
              "      <td>0.471876</td>\n",
              "      <td>33.240885</td>\n",
              "      <td>0.348958</td>\n",
              "    </tr>\n",
              "    <tr>\n",
              "      <th>std</th>\n",
              "      <td>3.369578</td>\n",
              "      <td>31.972618</td>\n",
              "      <td>19.355807</td>\n",
              "      <td>15.952218</td>\n",
              "      <td>115.244002</td>\n",
              "      <td>7.884160</td>\n",
              "      <td>0.331329</td>\n",
              "      <td>11.760232</td>\n",
              "      <td>0.476951</td>\n",
              "    </tr>\n",
              "    <tr>\n",
              "      <th>min</th>\n",
              "      <td>0.000000</td>\n",
              "      <td>0.000000</td>\n",
              "      <td>0.000000</td>\n",
              "      <td>0.000000</td>\n",
              "      <td>0.000000</td>\n",
              "      <td>0.000000</td>\n",
              "      <td>0.078000</td>\n",
              "      <td>21.000000</td>\n",
              "      <td>0.000000</td>\n",
              "    </tr>\n",
              "    <tr>\n",
              "      <th>25%</th>\n",
              "      <td>1.000000</td>\n",
              "      <td>99.000000</td>\n",
              "      <td>62.000000</td>\n",
              "      <td>0.000000</td>\n",
              "      <td>0.000000</td>\n",
              "      <td>27.300000</td>\n",
              "      <td>0.243750</td>\n",
              "      <td>24.000000</td>\n",
              "      <td>0.000000</td>\n",
              "    </tr>\n",
              "    <tr>\n",
              "      <th>50%</th>\n",
              "      <td>3.000000</td>\n",
              "      <td>117.000000</td>\n",
              "      <td>72.000000</td>\n",
              "      <td>23.000000</td>\n",
              "      <td>30.500000</td>\n",
              "      <td>32.000000</td>\n",
              "      <td>0.372500</td>\n",
              "      <td>29.000000</td>\n",
              "      <td>0.000000</td>\n",
              "    </tr>\n",
              "    <tr>\n",
              "      <th>75%</th>\n",
              "      <td>6.000000</td>\n",
              "      <td>140.250000</td>\n",
              "      <td>80.000000</td>\n",
              "      <td>32.000000</td>\n",
              "      <td>127.250000</td>\n",
              "      <td>36.600000</td>\n",
              "      <td>0.626250</td>\n",
              "      <td>41.000000</td>\n",
              "      <td>1.000000</td>\n",
              "    </tr>\n",
              "    <tr>\n",
              "      <th>max</th>\n",
              "      <td>17.000000</td>\n",
              "      <td>199.000000</td>\n",
              "      <td>122.000000</td>\n",
              "      <td>99.000000</td>\n",
              "      <td>846.000000</td>\n",
              "      <td>67.100000</td>\n",
              "      <td>2.420000</td>\n",
              "      <td>81.000000</td>\n",
              "      <td>1.000000</td>\n",
              "    </tr>\n",
              "  </tbody>\n",
              "</table>\n",
              "</div>"
            ],
            "text/plain": [
              "       preg_times     glucose  blood_press  skin_thickness     insulin  \\\n",
              "count  768.000000  768.000000   768.000000      768.000000  768.000000   \n",
              "mean     3.845052  120.894531    69.105469       20.536458   79.799479   \n",
              "std      3.369578   31.972618    19.355807       15.952218  115.244002   \n",
              "min      0.000000    0.000000     0.000000        0.000000    0.000000   \n",
              "25%      1.000000   99.000000    62.000000        0.000000    0.000000   \n",
              "50%      3.000000  117.000000    72.000000       23.000000   30.500000   \n",
              "75%      6.000000  140.250000    80.000000       32.000000  127.250000   \n",
              "max     17.000000  199.000000   122.000000       99.000000  846.000000   \n",
              "\n",
              "              BMI    pedigree         age       class  \n",
              "count  768.000000  768.000000  768.000000  768.000000  \n",
              "mean    31.992578    0.471876   33.240885    0.348958  \n",
              "std      7.884160    0.331329   11.760232    0.476951  \n",
              "min      0.000000    0.078000   21.000000    0.000000  \n",
              "25%     27.300000    0.243750   24.000000    0.000000  \n",
              "50%     32.000000    0.372500   29.000000    0.000000  \n",
              "75%     36.600000    0.626250   41.000000    1.000000  \n",
              "max     67.100000    2.420000   81.000000    1.000000  "
            ]
          },
          "execution_count": 6,
          "metadata": {},
          "output_type": "execute_result"
        }
      ],
      "source": [
        "df_diabetes.describe()"
      ]
    },
    {
      "cell_type": "markdown",
      "metadata": {
        "id": "K_GVyZp8yyxI"
      },
      "source": [
        "## Split Datasets"
      ]
    },
    {
      "cell_type": "code",
      "execution_count": 7,
      "metadata": {
        "id": "qa43VD5kyyxJ"
      },
      "outputs": [],
      "source": [
        "features = df_diabetes.values[:,:8]"
      ]
    },
    {
      "cell_type": "code",
      "execution_count": 15,
      "metadata": {
        "id": "6oVY83swyyxJ"
      },
      "outputs": [],
      "source": [
        "labels = df_diabetes.values[:,8:]"
      ]
    },
    {
      "cell_type": "code",
      "execution_count": 16,
      "metadata": {
        "id": "9_jvZvoQyyxK"
      },
      "outputs": [],
      "source": [
        "X_train, X_test, y_train, y_test = train_test_split(features, labels, test_size=0.2, random_state=20)"
      ]
    },
    {
      "cell_type": "markdown",
      "metadata": {
        "id": "9OOZ9VMQyyxK"
      },
      "source": [
        "## Define Model"
      ]
    },
    {
      "cell_type": "code",
      "execution_count": 17,
      "metadata": {
        "id": "lR-K58W_yyxK"
      },
      "outputs": [],
      "source": [
        "# define the keras sequential model\n",
        "model = Sequential()"
      ]
    },
    {
      "cell_type": "code",
      "execution_count": 18,
      "metadata": {
        "id": "nRVR90z9yyxK"
      },
      "outputs": [],
      "source": [
        "model.add(Dense(12, input_dim=8, activation='relu')) # input layer + 1st hidden layer\n",
        "model.add(Dense(8, activation='relu')) # 2nd hidden layer \n",
        "model.add(Dense(1, activation='sigmoid')) # output layer"
      ]
    },
    {
      "cell_type": "code",
      "execution_count": 19,
      "metadata": {
        "colab": {
          "base_uri": "https://localhost:8080/"
        },
        "id": "nXjaPMssyyxL",
        "outputId": "f8868233-f3cc-476b-c263-d340de96479d"
      },
      "outputs": [
        {
          "name": "stdout",
          "output_type": "stream",
          "text": [
            "Model: \"sequential_1\"\n",
            "_________________________________________________________________\n",
            " Layer (type)                Output Shape              Param #   \n",
            "=================================================================\n",
            " dense_3 (Dense)             (None, 12)                108       \n",
            "                                                                 \n",
            " dense_4 (Dense)             (None, 8)                 104       \n",
            "                                                                 \n",
            " dense_5 (Dense)             (None, 1)                 9         \n",
            "                                                                 \n",
            "=================================================================\n",
            "Total params: 221\n",
            "Trainable params: 221\n",
            "Non-trainable params: 0\n",
            "_________________________________________________________________\n"
          ]
        }
      ],
      "source": [
        "model.summary()"
      ]
    },
    {
      "cell_type": "markdown",
      "metadata": {
        "id": "enLgN5_3yyxL"
      },
      "source": [
        "## Compile Model"
      ]
    },
    {
      "cell_type": "code",
      "execution_count": 20,
      "metadata": {
        "id": "CnPiP1bGyyxL"
      },
      "outputs": [],
      "source": [
        "model.compile(loss='binary_crossentropy', optimizer='adam', metrics=['accuracy'])"
      ]
    },
    {
      "cell_type": "markdown",
      "metadata": {
        "id": "tqbkWTQeyyxL"
      },
      "source": [
        "## Train Model"
      ]
    },
    {
      "cell_type": "code",
      "execution_count": 21,
      "metadata": {
        "colab": {
          "base_uri": "https://localhost:8080/"
        },
        "id": "1yo11JNFyyxL",
        "outputId": "eb7b903a-382d-4c8b-8690-948433211211",
        "scrolled": true
      },
      "outputs": [
        {
          "name": "stdout",
          "output_type": "stream",
          "text": [
            "Epoch 1/250\n",
            "77/77 [==============================] - 3s 3ms/step - loss: 5.1489 - accuracy: 0.5033\n",
            "Epoch 2/250\n",
            "77/77 [==============================] - 0s 2ms/step - loss: 2.1322 - accuracy: 0.6091\n",
            "Epoch 3/250\n",
            "77/77 [==============================] - 0s 2ms/step - loss: 1.2665 - accuracy: 0.6205\n",
            "Epoch 4/250\n",
            "77/77 [==============================] - 0s 2ms/step - loss: 0.8404 - accuracy: 0.6336\n",
            "Epoch 5/250\n",
            "77/77 [==============================] - 0s 2ms/step - loss: 0.7378 - accuracy: 0.6759\n",
            "Epoch 6/250\n",
            "77/77 [==============================] - 0s 2ms/step - loss: 0.7095 - accuracy: 0.6678\n",
            "Epoch 7/250\n",
            "77/77 [==============================] - 0s 2ms/step - loss: 0.6878 - accuracy: 0.6678\n",
            "Epoch 8/250\n",
            "77/77 [==============================] - 0s 2ms/step - loss: 0.6705 - accuracy: 0.6775\n",
            "Epoch 9/250\n",
            "77/77 [==============================] - 0s 2ms/step - loss: 0.6649 - accuracy: 0.6857\n",
            "Epoch 10/250\n",
            "77/77 [==============================] - 0s 2ms/step - loss: 0.6578 - accuracy: 0.6775\n",
            "Epoch 11/250\n",
            "77/77 [==============================] - 0s 2ms/step - loss: 0.6528 - accuracy: 0.6775\n",
            "Epoch 12/250\n",
            "77/77 [==============================] - 0s 2ms/step - loss: 0.6476 - accuracy: 0.6840\n",
            "Epoch 13/250\n",
            "77/77 [==============================] - 0s 2ms/step - loss: 0.6451 - accuracy: 0.7003\n",
            "Epoch 14/250\n",
            "77/77 [==============================] - 0s 2ms/step - loss: 0.6415 - accuracy: 0.6906\n",
            "Epoch 15/250\n",
            "77/77 [==============================] - 0s 2ms/step - loss: 0.6464 - accuracy: 0.6661\n",
            "Epoch 16/250\n",
            "77/77 [==============================] - 0s 2ms/step - loss: 0.6356 - accuracy: 0.6906\n",
            "Epoch 17/250\n",
            "77/77 [==============================] - 0s 2ms/step - loss: 0.6272 - accuracy: 0.7020\n",
            "Epoch 18/250\n",
            "77/77 [==============================] - 0s 2ms/step - loss: 0.6397 - accuracy: 0.6808\n",
            "Epoch 19/250\n",
            "77/77 [==============================] - 0s 2ms/step - loss: 0.6279 - accuracy: 0.7020\n",
            "Epoch 20/250\n",
            "77/77 [==============================] - 0s 2ms/step - loss: 0.6313 - accuracy: 0.6873\n",
            "Epoch 21/250\n",
            "77/77 [==============================] - 0s 2ms/step - loss: 0.6199 - accuracy: 0.6938\n",
            "Epoch 22/250\n",
            "77/77 [==============================] - 0s 2ms/step - loss: 0.6249 - accuracy: 0.6906\n",
            "Epoch 23/250\n",
            "77/77 [==============================] - 0s 2ms/step - loss: 0.6152 - accuracy: 0.6954\n",
            "Epoch 24/250\n",
            "77/77 [==============================] - 0s 2ms/step - loss: 0.6150 - accuracy: 0.7068\n",
            "Epoch 25/250\n",
            "77/77 [==============================] - 0s 3ms/step - loss: 0.6221 - accuracy: 0.7020\n",
            "Epoch 26/250\n",
            "77/77 [==============================] - 0s 2ms/step - loss: 0.6096 - accuracy: 0.7101\n",
            "Epoch 27/250\n",
            "77/77 [==============================] - 0s 2ms/step - loss: 0.6045 - accuracy: 0.7036\n",
            "Epoch 28/250\n",
            "77/77 [==============================] - 0s 2ms/step - loss: 0.6055 - accuracy: 0.7101\n",
            "Epoch 29/250\n",
            "77/77 [==============================] - 0s 3ms/step - loss: 0.6048 - accuracy: 0.6906\n",
            "Epoch 30/250\n",
            "77/77 [==============================] - 0s 3ms/step - loss: 0.5940 - accuracy: 0.7101\n",
            "Epoch 31/250\n",
            "77/77 [==============================] - 0s 3ms/step - loss: 0.5934 - accuracy: 0.7101\n",
            "Epoch 32/250\n",
            "77/77 [==============================] - 0s 2ms/step - loss: 0.5860 - accuracy: 0.7101\n",
            "Epoch 33/250\n",
            "77/77 [==============================] - 0s 2ms/step - loss: 0.5947 - accuracy: 0.7101\n",
            "Epoch 34/250\n",
            "77/77 [==============================] - 0s 3ms/step - loss: 0.5883 - accuracy: 0.7117\n",
            "Epoch 35/250\n",
            "77/77 [==============================] - 0s 3ms/step - loss: 0.5839 - accuracy: 0.7215\n",
            "Epoch 36/250\n",
            "77/77 [==============================] - 0s 3ms/step - loss: 0.5736 - accuracy: 0.7166\n",
            "Epoch 37/250\n",
            "77/77 [==============================] - 0s 2ms/step - loss: 0.5850 - accuracy: 0.6987\n",
            "Epoch 38/250\n",
            "77/77 [==============================] - 0s 2ms/step - loss: 0.5675 - accuracy: 0.7166\n",
            "Epoch 39/250\n",
            "77/77 [==============================] - 0s 3ms/step - loss: 0.5612 - accuracy: 0.7378\n",
            "Epoch 40/250\n",
            "77/77 [==============================] - 0s 2ms/step - loss: 0.5556 - accuracy: 0.7329\n",
            "Epoch 41/250\n",
            "77/77 [==============================] - 0s 2ms/step - loss: 0.5608 - accuracy: 0.7264\n",
            "Epoch 42/250\n",
            "77/77 [==============================] - 0s 2ms/step - loss: 0.5548 - accuracy: 0.7329\n",
            "Epoch 43/250\n",
            "77/77 [==============================] - 0s 2ms/step - loss: 0.5588 - accuracy: 0.7215\n",
            "Epoch 44/250\n",
            "77/77 [==============================] - 0s 3ms/step - loss: 0.5633 - accuracy: 0.7264\n",
            "Epoch 45/250\n",
            "77/77 [==============================] - 0s 2ms/step - loss: 0.5487 - accuracy: 0.7410\n",
            "Epoch 46/250\n",
            "77/77 [==============================] - 0s 3ms/step - loss: 0.5501 - accuracy: 0.7264\n",
            "Epoch 47/250\n",
            "77/77 [==============================] - 0s 3ms/step - loss: 0.5506 - accuracy: 0.7215\n",
            "Epoch 48/250\n",
            "77/77 [==============================] - 0s 2ms/step - loss: 0.5537 - accuracy: 0.7296\n",
            "Epoch 49/250\n",
            "77/77 [==============================] - 0s 3ms/step - loss: 0.5454 - accuracy: 0.7215\n",
            "Epoch 50/250\n",
            "77/77 [==============================] - 0s 3ms/step - loss: 0.5406 - accuracy: 0.7280\n",
            "Epoch 51/250\n",
            "77/77 [==============================] - 0s 3ms/step - loss: 0.5406 - accuracy: 0.7296\n",
            "Epoch 52/250\n",
            "77/77 [==============================] - 0s 3ms/step - loss: 0.5345 - accuracy: 0.7231\n",
            "Epoch 53/250\n",
            "77/77 [==============================] - 0s 2ms/step - loss: 0.5365 - accuracy: 0.7264\n",
            "Epoch 54/250\n",
            "77/77 [==============================] - 0s 3ms/step - loss: 0.5349 - accuracy: 0.7443\n",
            "Epoch 55/250\n",
            "77/77 [==============================] - 0s 3ms/step - loss: 0.5357 - accuracy: 0.7443\n",
            "Epoch 56/250\n",
            "77/77 [==============================] - 0s 2ms/step - loss: 0.5230 - accuracy: 0.7573\n",
            "Epoch 57/250\n",
            "77/77 [==============================] - 0s 2ms/step - loss: 0.5365 - accuracy: 0.7345\n",
            "Epoch 58/250\n",
            "77/77 [==============================] - 0s 2ms/step - loss: 0.5353 - accuracy: 0.7410\n",
            "Epoch 59/250\n",
            "77/77 [==============================] - 0s 3ms/step - loss: 0.5281 - accuracy: 0.7280\n",
            "Epoch 60/250\n",
            "77/77 [==============================] - 0s 2ms/step - loss: 0.5244 - accuracy: 0.7264\n",
            "Epoch 61/250\n",
            "77/77 [==============================] - 0s 3ms/step - loss: 0.5194 - accuracy: 0.7459\n",
            "Epoch 62/250\n",
            "77/77 [==============================] - 0s 2ms/step - loss: 0.5204 - accuracy: 0.7524\n",
            "Epoch 63/250\n",
            "77/77 [==============================] - 0s 2ms/step - loss: 0.5189 - accuracy: 0.7362\n",
            "Epoch 64/250\n",
            "77/77 [==============================] - 0s 3ms/step - loss: 0.5206 - accuracy: 0.7394\n",
            "Epoch 65/250\n",
            "77/77 [==============================] - 0s 3ms/step - loss: 0.5206 - accuracy: 0.7557\n",
            "Epoch 66/250\n",
            "77/77 [==============================] - 0s 3ms/step - loss: 0.5176 - accuracy: 0.7394\n",
            "Epoch 67/250\n",
            "77/77 [==============================] - 0s 3ms/step - loss: 0.5122 - accuracy: 0.7443\n",
            "Epoch 68/250\n",
            "77/77 [==============================] - 0s 2ms/step - loss: 0.5139 - accuracy: 0.7492\n",
            "Epoch 69/250\n",
            "77/77 [==============================] - 0s 3ms/step - loss: 0.5120 - accuracy: 0.7410\n",
            "Epoch 70/250\n",
            "77/77 [==============================] - 0s 3ms/step - loss: 0.5157 - accuracy: 0.7508\n",
            "Epoch 71/250\n",
            "77/77 [==============================] - 0s 3ms/step - loss: 0.5292 - accuracy: 0.7264\n",
            "Epoch 72/250\n",
            "77/77 [==============================] - 0s 3ms/step - loss: 0.5217 - accuracy: 0.7476\n",
            "Epoch 73/250\n",
            "77/77 [==============================] - 0s 3ms/step - loss: 0.5109 - accuracy: 0.7541\n",
            "Epoch 74/250\n",
            "77/77 [==============================] - 0s 3ms/step - loss: 0.5183 - accuracy: 0.7492\n",
            "Epoch 75/250\n",
            "77/77 [==============================] - 0s 3ms/step - loss: 0.5177 - accuracy: 0.7345\n",
            "Epoch 76/250\n",
            "77/77 [==============================] - 0s 3ms/step - loss: 0.5134 - accuracy: 0.7443\n",
            "Epoch 77/250\n",
            "77/77 [==============================] - 0s 2ms/step - loss: 0.5057 - accuracy: 0.7622\n",
            "Epoch 78/250\n",
            "77/77 [==============================] - 0s 3ms/step - loss: 0.5083 - accuracy: 0.7524\n",
            "Epoch 79/250\n",
            "77/77 [==============================] - 0s 3ms/step - loss: 0.5095 - accuracy: 0.7557\n",
            "Epoch 80/250\n",
            "77/77 [==============================] - 0s 3ms/step - loss: 0.4997 - accuracy: 0.7671\n",
            "Epoch 81/250\n",
            "77/77 [==============================] - 0s 3ms/step - loss: 0.5051 - accuracy: 0.7476\n",
            "Epoch 82/250\n",
            "77/77 [==============================] - 0s 2ms/step - loss: 0.5080 - accuracy: 0.7476\n",
            "Epoch 83/250\n",
            "77/77 [==============================] - 0s 3ms/step - loss: 0.5061 - accuracy: 0.7410\n",
            "Epoch 84/250\n",
            "77/77 [==============================] - 0s 2ms/step - loss: 0.5189 - accuracy: 0.7443\n",
            "Epoch 85/250\n",
            "77/77 [==============================] - 0s 2ms/step - loss: 0.5105 - accuracy: 0.7476\n",
            "Epoch 86/250\n",
            "77/77 [==============================] - 0s 3ms/step - loss: 0.5125 - accuracy: 0.7557\n",
            "Epoch 87/250\n",
            "77/77 [==============================] - 0s 3ms/step - loss: 0.4992 - accuracy: 0.7541\n",
            "Epoch 88/250\n",
            "77/77 [==============================] - 0s 3ms/step - loss: 0.5097 - accuracy: 0.7427\n",
            "Epoch 89/250\n",
            "77/77 [==============================] - 0s 3ms/step - loss: 0.5079 - accuracy: 0.7541\n",
            "Epoch 90/250\n",
            "77/77 [==============================] - 0s 3ms/step - loss: 0.5063 - accuracy: 0.7557\n",
            "Epoch 91/250\n",
            "77/77 [==============================] - 0s 3ms/step - loss: 0.5075 - accuracy: 0.7524\n",
            "Epoch 92/250\n",
            "77/77 [==============================] - 0s 3ms/step - loss: 0.4967 - accuracy: 0.7443\n",
            "Epoch 93/250\n",
            "77/77 [==============================] - 0s 3ms/step - loss: 0.5003 - accuracy: 0.7557\n",
            "Epoch 94/250\n",
            "77/77 [==============================] - 0s 3ms/step - loss: 0.5015 - accuracy: 0.7606\n",
            "Epoch 95/250\n",
            "77/77 [==============================] - 0s 4ms/step - loss: 0.4991 - accuracy: 0.7492\n",
            "Epoch 96/250\n",
            "77/77 [==============================] - 0s 2ms/step - loss: 0.4966 - accuracy: 0.7671\n",
            "Epoch 97/250\n",
            "77/77 [==============================] - 0s 2ms/step - loss: 0.4938 - accuracy: 0.7720\n",
            "Epoch 98/250\n",
            "77/77 [==============================] - 0s 2ms/step - loss: 0.4964 - accuracy: 0.7638\n",
            "Epoch 99/250\n",
            "77/77 [==============================] - 0s 2ms/step - loss: 0.4992 - accuracy: 0.7687\n",
            "Epoch 100/250\n",
            "77/77 [==============================] - 0s 3ms/step - loss: 0.4999 - accuracy: 0.7638\n",
            "Epoch 101/250\n",
            "77/77 [==============================] - 0s 3ms/step - loss: 0.4929 - accuracy: 0.7606\n",
            "Epoch 102/250\n",
            "77/77 [==============================] - 0s 2ms/step - loss: 0.4930 - accuracy: 0.7655\n",
            "Epoch 103/250\n",
            "77/77 [==============================] - 0s 3ms/step - loss: 0.4941 - accuracy: 0.7557\n",
            "Epoch 104/250\n",
            "77/77 [==============================] - 0s 2ms/step - loss: 0.4994 - accuracy: 0.7622\n",
            "Epoch 105/250\n",
            "77/77 [==============================] - 0s 3ms/step - loss: 0.4980 - accuracy: 0.7573\n",
            "Epoch 106/250\n",
            "77/77 [==============================] - 0s 2ms/step - loss: 0.4942 - accuracy: 0.7541\n",
            "Epoch 107/250\n",
            "77/77 [==============================] - 0s 2ms/step - loss: 0.4909 - accuracy: 0.7671\n",
            "Epoch 108/250\n",
            "77/77 [==============================] - 0s 3ms/step - loss: 0.5021 - accuracy: 0.7476\n",
            "Epoch 109/250\n",
            "77/77 [==============================] - 0s 2ms/step - loss: 0.5016 - accuracy: 0.7427\n",
            "Epoch 110/250\n",
            "77/77 [==============================] - 0s 3ms/step - loss: 0.4968 - accuracy: 0.7687\n",
            "Epoch 111/250\n",
            "77/77 [==============================] - 0s 3ms/step - loss: 0.4880 - accuracy: 0.7671\n",
            "Epoch 112/250\n",
            "77/77 [==============================] - 0s 2ms/step - loss: 0.4955 - accuracy: 0.7590\n",
            "Epoch 113/250\n",
            "77/77 [==============================] - 0s 3ms/step - loss: 0.4862 - accuracy: 0.7573\n",
            "Epoch 114/250\n",
            "77/77 [==============================] - 0s 3ms/step - loss: 0.4898 - accuracy: 0.7704\n",
            "Epoch 115/250\n",
            "77/77 [==============================] - 0s 2ms/step - loss: 0.4902 - accuracy: 0.7720\n",
            "Epoch 116/250\n",
            "77/77 [==============================] - 0s 2ms/step - loss: 0.4894 - accuracy: 0.7638\n",
            "Epoch 117/250\n",
            "77/77 [==============================] - 0s 2ms/step - loss: 0.4896 - accuracy: 0.7557\n",
            "Epoch 118/250\n",
            "77/77 [==============================] - 0s 3ms/step - loss: 0.4861 - accuracy: 0.7704\n",
            "Epoch 119/250\n",
            "77/77 [==============================] - 0s 3ms/step - loss: 0.4947 - accuracy: 0.7524\n",
            "Epoch 120/250\n",
            "77/77 [==============================] - 0s 2ms/step - loss: 0.4921 - accuracy: 0.7541\n",
            "Epoch 121/250\n",
            "77/77 [==============================] - 0s 3ms/step - loss: 0.4872 - accuracy: 0.7687\n",
            "Epoch 122/250\n",
            "77/77 [==============================] - 0s 2ms/step - loss: 0.4927 - accuracy: 0.7508\n",
            "Epoch 123/250\n",
            "77/77 [==============================] - 0s 3ms/step - loss: 0.4864 - accuracy: 0.7704\n",
            "Epoch 124/250\n",
            "77/77 [==============================] - 0s 3ms/step - loss: 0.4926 - accuracy: 0.7573\n",
            "Epoch 125/250\n",
            "77/77 [==============================] - 0s 2ms/step - loss: 0.4844 - accuracy: 0.7752\n",
            "Epoch 126/250\n",
            "77/77 [==============================] - 0s 3ms/step - loss: 0.4843 - accuracy: 0.7687\n",
            "Epoch 127/250\n",
            "77/77 [==============================] - 0s 2ms/step - loss: 0.4870 - accuracy: 0.7752\n",
            "Epoch 128/250\n",
            "77/77 [==============================] - 0s 3ms/step - loss: 0.4845 - accuracy: 0.7818\n",
            "Epoch 129/250\n",
            "77/77 [==============================] - 0s 3ms/step - loss: 0.4816 - accuracy: 0.7655\n",
            "Epoch 130/250\n",
            "77/77 [==============================] - 0s 2ms/step - loss: 0.4854 - accuracy: 0.7687\n",
            "Epoch 131/250\n",
            "77/77 [==============================] - 0s 3ms/step - loss: 0.4815 - accuracy: 0.7704\n",
            "Epoch 132/250\n",
            "77/77 [==============================] - 0s 3ms/step - loss: 0.4780 - accuracy: 0.7720\n",
            "Epoch 133/250\n",
            "77/77 [==============================] - 0s 3ms/step - loss: 0.4871 - accuracy: 0.7638\n",
            "Epoch 134/250\n",
            "77/77 [==============================] - 0s 3ms/step - loss: 0.4833 - accuracy: 0.7622\n",
            "Epoch 135/250\n",
            "77/77 [==============================] - 0s 2ms/step - loss: 0.4865 - accuracy: 0.7720\n",
            "Epoch 136/250\n",
            "77/77 [==============================] - 0s 2ms/step - loss: 0.4759 - accuracy: 0.7736\n",
            "Epoch 137/250\n",
            "77/77 [==============================] - 0s 2ms/step - loss: 0.4768 - accuracy: 0.7801\n",
            "Epoch 138/250\n",
            "77/77 [==============================] - 0s 3ms/step - loss: 0.4794 - accuracy: 0.7638\n",
            "Epoch 139/250\n",
            "77/77 [==============================] - 0s 3ms/step - loss: 0.4785 - accuracy: 0.7736\n",
            "Epoch 140/250\n",
            "77/77 [==============================] - 0s 3ms/step - loss: 0.4806 - accuracy: 0.7769\n",
            "Epoch 141/250\n",
            "77/77 [==============================] - 0s 3ms/step - loss: 0.4847 - accuracy: 0.7606\n",
            "Epoch 142/250\n",
            "77/77 [==============================] - 0s 2ms/step - loss: 0.4756 - accuracy: 0.7736\n",
            "Epoch 143/250\n",
            "77/77 [==============================] - 0s 2ms/step - loss: 0.4889 - accuracy: 0.7606\n",
            "Epoch 144/250\n",
            "77/77 [==============================] - 0s 3ms/step - loss: 0.4778 - accuracy: 0.7590\n",
            "Epoch 145/250\n",
            "77/77 [==============================] - 0s 2ms/step - loss: 0.4798 - accuracy: 0.7655\n",
            "Epoch 146/250\n",
            "77/77 [==============================] - 0s 3ms/step - loss: 0.4730 - accuracy: 0.7769\n",
            "Epoch 147/250\n",
            "77/77 [==============================] - 0s 2ms/step - loss: 0.4803 - accuracy: 0.7834\n",
            "Epoch 148/250\n",
            "77/77 [==============================] - 0s 3ms/step - loss: 0.4777 - accuracy: 0.7687\n",
            "Epoch 149/250\n",
            "77/77 [==============================] - 0s 2ms/step - loss: 0.4721 - accuracy: 0.7671\n",
            "Epoch 150/250\n",
            "77/77 [==============================] - 0s 2ms/step - loss: 0.4738 - accuracy: 0.7785\n",
            "Epoch 151/250\n",
            "77/77 [==============================] - 0s 3ms/step - loss: 0.4790 - accuracy: 0.7671\n",
            "Epoch 152/250\n",
            "77/77 [==============================] - 0s 3ms/step - loss: 0.4752 - accuracy: 0.7752\n",
            "Epoch 153/250\n",
            "77/77 [==============================] - 0s 2ms/step - loss: 0.4770 - accuracy: 0.7671\n",
            "Epoch 154/250\n",
            "77/77 [==============================] - 0s 3ms/step - loss: 0.4727 - accuracy: 0.7671\n",
            "Epoch 155/250\n",
            "77/77 [==============================] - 0s 3ms/step - loss: 0.4737 - accuracy: 0.7736\n",
            "Epoch 156/250\n",
            "77/77 [==============================] - 0s 3ms/step - loss: 0.4770 - accuracy: 0.7720\n",
            "Epoch 157/250\n",
            "77/77 [==============================] - 0s 2ms/step - loss: 0.4780 - accuracy: 0.7687\n",
            "Epoch 158/250\n",
            "77/77 [==============================] - 0s 2ms/step - loss: 0.4645 - accuracy: 0.7801\n",
            "Epoch 159/250\n",
            "77/77 [==============================] - 0s 2ms/step - loss: 0.4793 - accuracy: 0.7655\n",
            "Epoch 160/250\n",
            "77/77 [==============================] - 0s 2ms/step - loss: 0.4684 - accuracy: 0.7671\n",
            "Epoch 161/250\n",
            "77/77 [==============================] - 0s 3ms/step - loss: 0.4791 - accuracy: 0.7704\n",
            "Epoch 162/250\n",
            "77/77 [==============================] - 0s 3ms/step - loss: 0.4785 - accuracy: 0.7573\n",
            "Epoch 163/250\n",
            "77/77 [==============================] - 0s 3ms/step - loss: 0.4747 - accuracy: 0.7769\n",
            "Epoch 164/250\n",
            "77/77 [==============================] - 0s 2ms/step - loss: 0.4689 - accuracy: 0.7704\n",
            "Epoch 165/250\n",
            "77/77 [==============================] - 0s 2ms/step - loss: 0.4813 - accuracy: 0.7687\n",
            "Epoch 166/250\n",
            "77/77 [==============================] - 0s 2ms/step - loss: 0.4746 - accuracy: 0.7638\n",
            "Epoch 167/250\n",
            "77/77 [==============================] - 0s 3ms/step - loss: 0.4774 - accuracy: 0.7785\n",
            "Epoch 168/250\n",
            "77/77 [==============================] - 0s 2ms/step - loss: 0.4678 - accuracy: 0.7720\n",
            "Epoch 169/250\n",
            "77/77 [==============================] - 0s 3ms/step - loss: 0.4761 - accuracy: 0.7801\n",
            "Epoch 170/250\n",
            "77/77 [==============================] - 0s 3ms/step - loss: 0.4715 - accuracy: 0.7671\n",
            "Epoch 171/250\n",
            "77/77 [==============================] - 0s 3ms/step - loss: 0.4733 - accuracy: 0.7687\n",
            "Epoch 172/250\n",
            "77/77 [==============================] - 0s 3ms/step - loss: 0.4691 - accuracy: 0.7736\n",
            "Epoch 173/250\n",
            "77/77 [==============================] - 0s 3ms/step - loss: 0.4686 - accuracy: 0.7801\n",
            "Epoch 174/250\n",
            "77/77 [==============================] - 0s 3ms/step - loss: 0.4698 - accuracy: 0.7736\n",
            "Epoch 175/250\n",
            "77/77 [==============================] - 0s 2ms/step - loss: 0.4774 - accuracy: 0.7671\n",
            "Epoch 176/250\n",
            "77/77 [==============================] - 0s 2ms/step - loss: 0.4641 - accuracy: 0.7801\n",
            "Epoch 177/250\n",
            "77/77 [==============================] - 0s 3ms/step - loss: 0.4691 - accuracy: 0.7818\n",
            "Epoch 178/250\n",
            "77/77 [==============================] - 0s 2ms/step - loss: 0.4699 - accuracy: 0.7671\n",
            "Epoch 179/250\n",
            "77/77 [==============================] - 0s 3ms/step - loss: 0.4679 - accuracy: 0.7801\n",
            "Epoch 180/250\n",
            "77/77 [==============================] - 0s 3ms/step - loss: 0.4629 - accuracy: 0.7883\n",
            "Epoch 181/250\n",
            "77/77 [==============================] - 0s 3ms/step - loss: 0.4709 - accuracy: 0.7769\n",
            "Epoch 182/250\n",
            "77/77 [==============================] - 0s 2ms/step - loss: 0.4697 - accuracy: 0.7818\n",
            "Epoch 183/250\n",
            "77/77 [==============================] - 0s 2ms/step - loss: 0.4746 - accuracy: 0.7622\n",
            "Epoch 184/250\n",
            "77/77 [==============================] - 0s 2ms/step - loss: 0.4670 - accuracy: 0.7720\n",
            "Epoch 185/250\n",
            "77/77 [==============================] - 0s 2ms/step - loss: 0.4619 - accuracy: 0.7752\n",
            "Epoch 186/250\n",
            "77/77 [==============================] - 0s 2ms/step - loss: 0.4680 - accuracy: 0.7736\n",
            "Epoch 187/250\n",
            "77/77 [==============================] - 0s 2ms/step - loss: 0.4699 - accuracy: 0.7655\n",
            "Epoch 188/250\n",
            "77/77 [==============================] - 0s 2ms/step - loss: 0.4723 - accuracy: 0.7720\n",
            "Epoch 189/250\n",
            "77/77 [==============================] - 0s 2ms/step - loss: 0.4642 - accuracy: 0.7720\n",
            "Epoch 190/250\n",
            "77/77 [==============================] - 0s 2ms/step - loss: 0.4617 - accuracy: 0.7720\n",
            "Epoch 191/250\n",
            "77/77 [==============================] - 0s 2ms/step - loss: 0.4626 - accuracy: 0.7752\n",
            "Epoch 192/250\n",
            "77/77 [==============================] - 0s 2ms/step - loss: 0.4642 - accuracy: 0.7883\n",
            "Epoch 193/250\n",
            "77/77 [==============================] - 0s 2ms/step - loss: 0.4639 - accuracy: 0.7850\n",
            "Epoch 194/250\n",
            "77/77 [==============================] - 0s 2ms/step - loss: 0.4712 - accuracy: 0.7850\n",
            "Epoch 195/250\n",
            "77/77 [==============================] - 0s 3ms/step - loss: 0.4598 - accuracy: 0.7899\n",
            "Epoch 196/250\n",
            "77/77 [==============================] - 0s 2ms/step - loss: 0.4702 - accuracy: 0.7834\n",
            "Epoch 197/250\n",
            "77/77 [==============================] - 0s 2ms/step - loss: 0.4633 - accuracy: 0.7752\n",
            "Epoch 198/250\n",
            "77/77 [==============================] - 0s 2ms/step - loss: 0.4633 - accuracy: 0.7785\n",
            "Epoch 199/250\n",
            "77/77 [==============================] - 0s 3ms/step - loss: 0.4677 - accuracy: 0.7785\n",
            "Epoch 200/250\n",
            "77/77 [==============================] - 0s 2ms/step - loss: 0.4617 - accuracy: 0.7801\n",
            "Epoch 201/250\n",
            "77/77 [==============================] - 0s 2ms/step - loss: 0.4621 - accuracy: 0.7769\n",
            "Epoch 202/250\n",
            "77/77 [==============================] - 0s 3ms/step - loss: 0.4531 - accuracy: 0.7834\n",
            "Epoch 203/250\n",
            "77/77 [==============================] - 0s 3ms/step - loss: 0.4707 - accuracy: 0.7736\n",
            "Epoch 204/250\n",
            "77/77 [==============================] - 0s 3ms/step - loss: 0.4561 - accuracy: 0.7769\n",
            "Epoch 205/250\n",
            "77/77 [==============================] - 0s 3ms/step - loss: 0.4569 - accuracy: 0.7769\n",
            "Epoch 206/250\n",
            "77/77 [==============================] - 0s 2ms/step - loss: 0.4612 - accuracy: 0.7671\n",
            "Epoch 207/250\n",
            "77/77 [==============================] - 0s 2ms/step - loss: 0.4573 - accuracy: 0.7834\n",
            "Epoch 208/250\n",
            "77/77 [==============================] - 0s 2ms/step - loss: 0.4579 - accuracy: 0.7736\n",
            "Epoch 209/250\n",
            "77/77 [==============================] - 0s 2ms/step - loss: 0.4615 - accuracy: 0.7704\n",
            "Epoch 210/250\n",
            "77/77 [==============================] - 0s 2ms/step - loss: 0.4647 - accuracy: 0.7752\n",
            "Epoch 211/250\n",
            "77/77 [==============================] - 0s 3ms/step - loss: 0.4531 - accuracy: 0.7752\n",
            "Epoch 212/250\n",
            "77/77 [==============================] - 0s 3ms/step - loss: 0.4579 - accuracy: 0.7785\n",
            "Epoch 213/250\n",
            "77/77 [==============================] - 0s 2ms/step - loss: 0.4589 - accuracy: 0.7818\n",
            "Epoch 214/250\n",
            "77/77 [==============================] - 0s 2ms/step - loss: 0.4559 - accuracy: 0.7850\n",
            "Epoch 215/250\n",
            "77/77 [==============================] - 0s 2ms/step - loss: 0.4520 - accuracy: 0.7899\n",
            "Epoch 216/250\n",
            "77/77 [==============================] - 0s 2ms/step - loss: 0.4615 - accuracy: 0.7980\n",
            "Epoch 217/250\n",
            "77/77 [==============================] - 0s 2ms/step - loss: 0.4564 - accuracy: 0.7785\n",
            "Epoch 218/250\n",
            "77/77 [==============================] - 0s 2ms/step - loss: 0.4584 - accuracy: 0.7834\n",
            "Epoch 219/250\n",
            "77/77 [==============================] - 0s 2ms/step - loss: 0.4568 - accuracy: 0.7769\n",
            "Epoch 220/250\n",
            "77/77 [==============================] - 0s 2ms/step - loss: 0.4558 - accuracy: 0.7769\n",
            "Epoch 221/250\n",
            "77/77 [==============================] - 0s 2ms/step - loss: 0.4598 - accuracy: 0.7736\n",
            "Epoch 222/250\n",
            "77/77 [==============================] - 0s 2ms/step - loss: 0.4495 - accuracy: 0.7899\n",
            "Epoch 223/250\n",
            "77/77 [==============================] - 0s 2ms/step - loss: 0.4537 - accuracy: 0.7752\n",
            "Epoch 224/250\n",
            "77/77 [==============================] - 0s 2ms/step - loss: 0.4553 - accuracy: 0.7834\n",
            "Epoch 225/250\n",
            "77/77 [==============================] - 0s 2ms/step - loss: 0.4571 - accuracy: 0.7769\n",
            "Epoch 226/250\n",
            "77/77 [==============================] - 0s 2ms/step - loss: 0.4488 - accuracy: 0.7834\n",
            "Epoch 227/250\n",
            "77/77 [==============================] - 0s 2ms/step - loss: 0.4479 - accuracy: 0.7850\n",
            "Epoch 228/250\n",
            "77/77 [==============================] - 0s 2ms/step - loss: 0.4479 - accuracy: 0.7866\n",
            "Epoch 229/250\n",
            "77/77 [==============================] - 0s 2ms/step - loss: 0.4538 - accuracy: 0.7801\n",
            "Epoch 230/250\n",
            "77/77 [==============================] - 0s 2ms/step - loss: 0.4556 - accuracy: 0.7948\n",
            "Epoch 231/250\n",
            "77/77 [==============================] - 0s 2ms/step - loss: 0.4556 - accuracy: 0.7818\n",
            "Epoch 232/250\n",
            "77/77 [==============================] - 0s 3ms/step - loss: 0.4641 - accuracy: 0.7834\n",
            "Epoch 233/250\n",
            "77/77 [==============================] - 0s 3ms/step - loss: 0.4559 - accuracy: 0.7964\n",
            "Epoch 234/250\n",
            "77/77 [==============================] - 0s 3ms/step - loss: 0.4501 - accuracy: 0.7850\n",
            "Epoch 235/250\n",
            "77/77 [==============================] - 0s 3ms/step - loss: 0.4569 - accuracy: 0.7818\n",
            "Epoch 236/250\n",
            "77/77 [==============================] - 0s 2ms/step - loss: 0.4484 - accuracy: 0.7915\n",
            "Epoch 237/250\n",
            "77/77 [==============================] - 0s 3ms/step - loss: 0.4493 - accuracy: 0.7915\n",
            "Epoch 238/250\n",
            "77/77 [==============================] - 0s 3ms/step - loss: 0.4530 - accuracy: 0.7801\n",
            "Epoch 239/250\n",
            "77/77 [==============================] - 0s 2ms/step - loss: 0.4491 - accuracy: 0.7850\n",
            "Epoch 240/250\n",
            "77/77 [==============================] - 0s 3ms/step - loss: 0.4602 - accuracy: 0.7932\n",
            "Epoch 241/250\n",
            "77/77 [==============================] - 0s 3ms/step - loss: 0.4471 - accuracy: 0.7818\n",
            "Epoch 242/250\n",
            "77/77 [==============================] - 0s 3ms/step - loss: 0.4536 - accuracy: 0.7866\n",
            "Epoch 243/250\n",
            "77/77 [==============================] - 0s 3ms/step - loss: 0.4478 - accuracy: 0.7818\n",
            "Epoch 244/250\n",
            "77/77 [==============================] - 0s 2ms/step - loss: 0.4454 - accuracy: 0.7752\n",
            "Epoch 245/250\n",
            "77/77 [==============================] - 0s 2ms/step - loss: 0.4514 - accuracy: 0.7769\n",
            "Epoch 246/250\n",
            "77/77 [==============================] - 0s 2ms/step - loss: 0.4514 - accuracy: 0.7948\n",
            "Epoch 247/250\n",
            "77/77 [==============================] - 0s 2ms/step - loss: 0.4505 - accuracy: 0.7769\n",
            "Epoch 248/250\n",
            "77/77 [==============================] - 0s 2ms/step - loss: 0.4484 - accuracy: 0.7769\n",
            "Epoch 249/250\n",
            "77/77 [==============================] - 0s 2ms/step - loss: 0.4486 - accuracy: 0.7785\n",
            "Epoch 250/250\n",
            "77/77 [==============================] - 0s 2ms/step - loss: 0.4514 - accuracy: 0.7818\n"
          ]
        },
        {
          "data": {
            "text/plain": [
              "<keras.callbacks.History at 0x1930f1bebc0>"
            ]
          },
          "execution_count": 21,
          "metadata": {},
          "output_type": "execute_result"
        }
      ],
      "source": [
        "# fit the keras model on the dataset\n",
        "model.fit(X_train, y_train, epochs=250, batch_size=8)"
      ]
    },
    {
      "cell_type": "code",
      "execution_count": 22,
      "metadata": {
        "colab": {
          "base_uri": "https://localhost:8080/",
          "height": 357
        },
        "id": "JILXJr0UyyxM",
        "outputId": "1f5e7ddd-ce55-42ce-a1aa-4dd8a9d21a27"
      },
      "outputs": [
        {
          "data": {
            "image/png": "[encoded data removed]",
            "text/plain": [
              "<Figure size 576x360 with 1 Axes>"
            ]
          },
          "metadata": {},
          "output_type": "display_data"
        }
      ],
      "source": [
        "plt.figure(figsize=[8,5])\n",
        "plt.plot(model.history.history['accuracy'], 'r')\n",
        "plt.legend(['Training loss'])\n",
        "plt.xlabel('Epochs', fontsize=16)\n",
        "plt.ylabel('Accuracy', fontsize=16)\n",
        "plt.title('Accuracy Curves', fontsize=16)\n",
        "\n",
        "plt.show()"
      ]
    },
    {
      "cell_type": "markdown",
      "metadata": {
        "id": "APkYUFU9yyxM"
      },
      "source": [
        "## Evaluate Model"
      ]
    },
    {
      "cell_type": "code",
      "execution_count": 24,
      "metadata": {
        "colab": {
          "base_uri": "https://localhost:8080/"
        },
        "id": "s0AXgfneyyxM",
        "outputId": "0f384549-7089-45a1-aebf-ea04853e7447"
      },
      "outputs": [
        {
          "name": "stdout",
          "output_type": "stream",
          "text": [
            "Accuracy: 70.78\n"
          ]
        }
      ],
      "source": [
        "# evaluate the keras model\n",
        "_, accuracy = model.evaluate(X_test, y_test, verbose=False)\n",
        "print(f'Accuracy: {accuracy*100:.2f}')"
      ]
    },
    {
      "cell_type": "markdown",
      "metadata": {
        "id": "zwr-S0Z-yyxM"
      },
      "source": [
        "---"
      ]
    }
  ],
  "metadata": {
    "colab": {
      "name": "01. Deep Learning - Training using Keras.ipynb",
      "provenance": []
    },
    "kernelspec": {
      "display_name": "Python 3",
      "language": "python",
      "name": "python3"
    },
    "language_info": {
      "codemirror_mode": {
        "name": "ipython",
        "version": 3
      },
      "file_extension": ".py",
      "mimetype": "text/x-python",
      "name": "python",
      "nbconvert_exporter": "python",
      "pygments_lexer": "ipython3",
      "version": "3.10.2"
    }
  },
  "nbformat": 4,
  "nbformat_minor": 0
}
