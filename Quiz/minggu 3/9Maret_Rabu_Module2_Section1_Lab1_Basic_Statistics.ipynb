{
  "cells": [
    {
      "cell_type": "markdown",
      "metadata": {
        "id": "ZY46fuhhHwzp"
      },
      "source": [
        "# Module 2: Data Analytics with Python - Statistics"
      ]
    },
    {
      "cell_type": "markdown",
      "metadata": {
        "id": "kTkpCFGvHwzt"
      },
      "source": [
        "## Lab 1: Basic statistics & Linear Algebra"
      ]
    },
    {
      "cell_type": "markdown",
      "metadata": {
        "id": "eHbZ5AyMHwzu"
      },
      "source": [
        "<br><br><br><br><br><br><br><br><br>\n",
        "## About Libraries for Statistics\n",
        "***"
      ]
    },
    {
      "cell_type": "markdown",
      "metadata": {
        "id": "r5PIYcB9Hwzw"
      },
      "source": [
        "### NUMPY\n",
        "\n",
        "NumPy is short for \"Numerical Python\". It is used to work with arrays. In Python we have lists that serve the purpose of arrays, but they are slow to process. NumPy aims to provide an array object that is twice faster then traditional Python lists."
      ]
    },
    {
      "cell_type": "markdown",
      "metadata": {
        "id": "BlULGDKzHwzw"
      },
      "source": [
        "### SCIPY\n",
        "\n",
        "SciPy is a free and open-source Python library used for scientific computing and technical computing. \n",
        "SciPy contains modules for optimization, linear algebra, integration, interpolation, special functions, \n",
        "FFT, signal and image processing, ODE solvers and other tasks common in science and engineering."
      ]
    },
    {
      "cell_type": "code",
      "execution_count": null,
      "metadata": {
        "id": "otLBcwaCHwzx",
        "outputId": "40b45c0a-44c0-4fbe-a3ad-b46048d19bab",
        "colab": {
          "base_uri": "https://localhost:8080/"
        }
      },
      "outputs": [
        {
          "output_type": "stream",
          "name": "stdout",
          "text": [
            "Requirement already satisfied: numpy in /usr/local/lib/python3.7/dist-packages (1.21.5)\n",
            "Requirement already satisfied: scipy in /usr/local/lib/python3.7/dist-packages (1.4.1)\n",
            "Requirement already satisfied: numpy>=1.13.3 in /usr/local/lib/python3.7/dist-packages (from scipy) (1.21.5)\n"
          ]
        }
      ],
      "source": [
        "import sys\n",
        "\n",
        "# run this cell to install numpy\n",
        "!{sys.executable} -m pip install numpy\n",
        "\n",
        "# run this cell to install scipy\n",
        "!{sys.executable} -m pip install scipy"
      ]
    },
    {
      "cell_type": "markdown",
      "metadata": {
        "id": "u_kJHOr4Hwz1"
      },
      "source": [
        "<br><br><br><br><br><br>\n",
        "# Objevtive\n",
        "***\n",
        "- **Measures of Central Tendency**\n",
        "     - Mean\n",
        "     - Median\n",
        "     - Mode\n",
        "\n",
        "- **Measures Of Spread**\n",
        "\n",
        "     - Range\n",
        "     - Quartiles and Interquartile range\n",
        "     - Percentile\n",
        "     - Variance\n",
        "     - Standard deviation\n",
        "\n",
        "\n",
        "- **Correlation v/s Causation**\n",
        "- **Kurtosis**\n",
        "- **Skewness**\n",
        "- **Eigen Vectors**\n",
        "\n",
        "     "
      ]
    },
    {
      "cell_type": "code",
      "execution_count": null,
      "metadata": {
        "id": "3pA_uj2oHwz1"
      },
      "outputs": [],
      "source": [
        "import numpy as np\n",
        "\n",
        "# Creating a Basic Array in Numpy\n",
        "X=np.array([1,2,3,5,5])"
      ]
    },
    {
      "cell_type": "markdown",
      "metadata": {
        "id": "Sm5Qb7mEHwz2"
      },
      "source": [
        "<br><br><br><br><br><br>\n",
        "## Measures of Central Tendency \n",
        "***\n",
        "\n",
        "The measure of central tendency is the commonly used method to identify the centre of the data set.\n",
        "Used to describe a data set by identifying the central position within that data set.\n",
        "\n",
        "Mean, Median and Mode"
      ]
    },
    {
      "cell_type": "markdown",
      "metadata": {
        "id": "lNkH796AHwz3"
      },
      "source": [
        "### MEAN\n",
        "***\n",
        "The most popular measure of central tendency. ​ It is also referred to as the average value in the data set. ​Defined as the sum of all values in a data set, divided by the total number of values in a data set.​ \n",
        "\n",
        "$ \\bar X= \\frac{\\sum X}{n}$"
      ]
    },
    {
      "cell_type": "code",
      "execution_count": null,
      "metadata": {
        "id": "YmtUVUEFHwz4",
        "outputId": "8351fff1-3dd4-49bb-bbb3-b704df7282b7",
        "colab": {
          "base_uri": "https://localhost:8080/"
        }
      },
      "outputs": [
        {
          "output_type": "stream",
          "name": "stdout",
          "text": [
            "Data [1 2 3 5 5]\n",
            "Mean: 3.2\n"
          ]
        }
      ],
      "source": [
        "# Mean using Numpy\n",
        "print(\"Data\",X)\n",
        "print(\"Mean:\",np.mean(X))"
      ]
    },
    {
      "cell_type": "markdown",
      "metadata": {
        "id": "WtJsMQHmHwz4"
      },
      "source": [
        "<br><br><br>\n",
        "### MEDIAN\n",
        "***\n",
        "Median is the middle value of an ordered data set. If there are a total of n values. Then median is -\n",
        "\n",
        "1. $ \\frac {(n+1)}{2} $th term if n is odd.\n",
        "\n",
        "\n",
        "2. Average of ($\\frac{n}{2}$) and ($\\frac{n}{2}+1$)th terms, if n is even."
      ]
    },
    {
      "cell_type": "code",
      "execution_count": null,
      "metadata": {
        "id": "Sa9P2t1iHwz4",
        "outputId": "96dbde63-e1b8-4d80-9065-183ce1204674",
        "colab": {
          "base_uri": "https://localhost:8080/"
        }
      },
      "outputs": [
        {
          "output_type": "stream",
          "name": "stdout",
          "text": [
            "Data [1 2 3 5 5]\n",
            "Median 3.0\n",
            "Tipe <class 'numpy.float64'>\n"
          ]
        }
      ],
      "source": [
        "# Finding Median of X\n",
        "print(\"Data\",X)\n",
        "print(\"Median\",np.median(X))\n",
        "print(\"Tipe\",type(np.median(X)))"
      ]
    },
    {
      "cell_type": "markdown",
      "metadata": {
        "id": "HoLJ-BAsHwz5"
      },
      "source": [
        "<br><br><br>\n",
        "### MODE\n",
        "***\n",
        "\n",
        "1. Most frequently occurring value in the data set, i.e. value of the random sample that occurs with the greatest frequency.\n",
        "2. It is applicable to all levels of data measurement, i.e., nominal, ordinal, interval and ratio scales."
      ]
    },
    {
      "cell_type": "code",
      "execution_count": null,
      "metadata": {
        "id": "LKeWi3NBHwz5",
        "outputId": "7005373b-a206-4cd9-eb58-b1faedc36ee5",
        "colab": {
          "base_uri": "https://localhost:8080/"
        }
      },
      "outputs": [
        {
          "output_type": "stream",
          "name": "stdout",
          "text": [
            "Data [1 2 3 5 5]\n",
            "Mode: 5\n",
            "Mode: ModeResult(mode=array([5]), count=array([2]))\n",
            "Mode: 5\n"
          ]
        }
      ],
      "source": [
        "# Finding Mode using numpy\n",
        "print(\"Data\",X)\n",
        "vals,counts = np.unique(X, return_counts=True)\n",
        "index = np.argmax(counts)\n",
        "print(\"Mode:\",vals[index])\n",
        "\n",
        "\n",
        "# Finding Mode using Scipy\n",
        "\n",
        "from scipy import stats\n",
        "m = stats.mode(X)\n",
        "print(\"Mode:\",stats.mode(X))\n",
        "print(\"Mode:\",m[0][0])"
      ]
    },
    {
      "cell_type": "markdown",
      "metadata": {
        "id": "sJnCgouEHwz5"
      },
      "source": [
        "<br><br><br><br><br><br>\n",
        "## Measures of Spread\n",
        "***\n",
        "\n",
        "A measure of how the data is dispersed or spread around the mean, i.e. the average.  It is used in quantitative data, as the variables can be arranged in a logical order, with a low and high value.\n",
        "\n",
        "Spread can be measured in-\n",
        "1.\tRange \n",
        "2.\tQuartiles and Interquartile range \n",
        "3.\tPercentile\n",
        "4.\tVariance \n",
        "5.\tStandard deviation \n"
      ]
    },
    {
      "cell_type": "markdown",
      "metadata": {
        "id": "KwZbh8pVHwz6"
      },
      "source": [
        "### RANGE\n",
        "***\n",
        "1. It is the simplest measure of variability. \n",
        "2. The distance between the smallest value and the largest value in a dataset. \n",
        "\n",
        "$ Range= \\max(X)-\\min(X)$"
      ]
    },
    {
      "cell_type": "code",
      "execution_count": null,
      "metadata": {
        "id": "ghN1JDlhHwz6",
        "outputId": "aff84f9e-c23e-41eb-9967-e0fd71772759",
        "colab": {
          "base_uri": "https://localhost:8080/"
        }
      },
      "outputs": [
        {
          "output_type": "stream",
          "name": "stdout",
          "text": [
            "Data  [1 2 3 5 5]\n",
            "Range  4\n"
          ]
        }
      ],
      "source": [
        "# Calculating the Range\n",
        "print(\"Data \",X)\n",
        "print(\"Range \",X.max()-X.min())"
      ]
    },
    {
      "cell_type": "markdown",
      "metadata": {
        "id": "0rl3bJ5eHwz6"
      },
      "source": [
        "<br><br><br><br><br><br>\n",
        "### QUARTILES AND IQR(Interquartile Range)\n",
        "***\n",
        "\n",
        "1. Q1 is the \"middle\" value in the first half of the rank-ordered data set.\n",
        "2. Q2 is the median value in the set.\n",
        "3. Q3 is the \"middle\" value in the second half of the rank-ordered data set.\n",
        "4. The interquartile range is calculated as: Upper Quartile – Lower Quartile."
      ]
    },
    {
      "cell_type": "code",
      "execution_count": null,
      "metadata": {
        "id": "g2g36qhAHwz7",
        "outputId": "4dbf11b7-4305-403f-d61c-930e377a2443",
        "colab": {
          "base_uri": "https://localhost:8080/"
        }
      },
      "outputs": [
        {
          "output_type": "stream",
          "name": "stdout",
          "text": [
            "Data [ 1  3  4  5  5  6  7 11]\n",
            "\n",
            "Quartile 1: 3.5\n",
            "Quartile 2: 5.0\n",
            "Quartile 3: 6.5\n",
            "\n",
            "Interquartile Range 3.0\n"
          ]
        }
      ],
      "source": [
        "# Defining Data\n",
        "data1=np.array([1, 3, 4, 5, 5, 6, 7, 11])\n",
        "print(\"Data\",data1)\n",
        "\n",
        "# First quartile (Q1)\n",
        "Q1 = np.quantile(data1, .25, interpolation = 'midpoint')\n",
        "print(\"\\nQuartile 1:\",Q1)\n",
        " \n",
        "# Second quartile (Q2)\n",
        "Q2 = np.quantile(data1, .50, interpolation = 'midpoint')\n",
        "print(\"Quartile 2:\",Q2)\n",
        "\n",
        "# Third quartile (Q3)\n",
        "Q3 = np.quantile(data1, .75, interpolation = 'midpoint')\n",
        "print(\"Quartile 3:\",Q3)\n",
        "\n",
        "# Interquaritle range (IQR)\n",
        "IQR = Q3 - Q1\n",
        "print(\"\\nInterquartile Range\",IQR)"
      ]
    },
    {
      "cell_type": "markdown",
      "metadata": {
        "id": "OtPVJeCfHwz7"
      },
      "source": [
        "<br><br><br><br><br><br>\n",
        "### PERCENTILES\n",
        "***\n",
        "\n",
        "The percentile usually indicates that a certain percentage falls below that percentile. For example, if you score in the 25th percentile, then 25% of test takers are below your score. The “25” is called the percentile rank. "
      ]
    },
    {
      "cell_type": "code",
      "execution_count": null,
      "metadata": {
        "id": "eAKtKYQiHwz7",
        "outputId": "b03be299-5538-497a-bceb-5a1bf8142e96",
        "colab": {
          "base_uri": "https://localhost:8080/"
        }
      },
      "outputs": [
        {
          "output_type": "stream",
          "name": "stdout",
          "text": [
            "Data [ 1  3  4  5  5  6  7 11]\n",
            "20th Percentile: 3.4\n"
          ]
        }
      ],
      "source": [
        "print(\"Data\",data1)\n",
        "percentile_20 = np.percentile(data1,20)\n",
        "print(\"20th Percentile:\",round(percentile_20,2))"
      ]
    },
    {
      "cell_type": "markdown",
      "metadata": {
        "id": "18LiYYF2Hwz7"
      },
      "source": [
        "<br><br><br>\n",
        "### VARIANCE AND STANDARD DEVIATION\n",
        "***\n",
        "Variance is a measure of how the spread-out a data set is. The formula for variance is-\n",
        "\n",
        "$\\sigma^2 = \\frac{\\sum (X_{i}-\\bar X)^2}{n-1}$\n",
        "\n",
        "Standard Deviation is the square root of variance. It is denoted by greek letter sigma $\\sigma$."
      ]
    },
    {
      "cell_type": "code",
      "execution_count": null,
      "metadata": {
        "id": "YGPw8fuVHwz8",
        "outputId": "2ca06866-d105-45ad-f7d5-a71b3c4740bb",
        "colab": {
          "base_uri": "https://localhost:8080/"
        }
      },
      "outputs": [
        {
          "output_type": "stream",
          "name": "stdout",
          "text": [
            "Data [ 1  3  4  5  5  6  7 11]\n",
            "Varaince: 8.785714285714286\n",
            "Varaince: 7.6875\n",
            "Standard Deviation: 2.9640705601780613\n"
          ]
        }
      ],
      "source": [
        "print(\"Data\",data1)\n",
        "\n",
        "'''\n",
        "    \"Delta Degrees of Freedom\": the divisor used in the calculation is\n",
        "    ``N - ddof``, where ``N`` represents the number of elements. By\n",
        "    default `ddof` is zero.\n",
        "'''\n",
        "print(\"Varaince:\",np.var(data1,ddof=1))\n",
        "print(\"Varaince:\",np.var(data1))\n",
        "print(\"Standard Deviation:\",np.std(data1,ddof=1))"
      ]
    },
    {
      "cell_type": "markdown",
      "metadata": {
        "id": "D-mAQBYxHwz8"
      },
      "source": [
        "<br><br><br><br><br><br>\n",
        "## COVARIANCE AND CORRELATION\n",
        "***"
      ]
    },
    {
      "cell_type": "markdown",
      "metadata": {
        "id": "jT6txvZLHwz8"
      },
      "source": [
        "### COVARIANCE\n",
        "1. Covariance is a statistical technique used for determining the relationship between the movement of two random variables. In short, how much two random variables change together.  \n",
        "\n",
        "2. Provides a measure of the strength of the correlation between two or more sets of random variates.\n",
        "\n",
        "3. Example: Let E(x) be the expected value of a given variable x, and E(y) be the expected value of variable y, then the covariance between x and y is given by:\n",
        "\n",
        "$cov(x, y) = E[xy] − E[x] E[y]$\n",
        "\n",
        "- If COV(x, y) = 0 then variables are uncorrelated\n",
        "- If COV(x, y) > 0 then variables positively correlated\n",
        "- If COV(x, y) > < 0 then variables negatively correlated"
      ]
    },
    {
      "cell_type": "code",
      "execution_count": null,
      "metadata": {
        "id": "Et4hsmT4Hwz8",
        "outputId": "2123c4af-5fed-45fd-c6ec-f86df146dc41",
        "colab": {
          "base_uri": "https://localhost:8080/"
        }
      },
      "outputs": [
        {
          "output_type": "stream",
          "name": "stdout",
          "text": [
            "[1 2 3 4 5 6 7 8 9]\n",
            "[9 8 7 6 5 4 3 2 1]\n",
            "\n",
            "Covariance  -7.5\n"
          ]
        }
      ],
      "source": [
        "x = np.array([1,2,3,4,5,6,7,8,9])\n",
        "print(x)\n",
        "y = np.array([9,8,7,6,5,4,3,2,1])\n",
        "z = np.array([19,15,13,10,5,4,3,2,1])\n",
        "print(y)\n",
        "\n",
        "print(\"\\nCovariance \",np.cov(x,y)[0,1])"
      ]
    },
    {
      "cell_type": "markdown",
      "metadata": {
        "id": "MtIldC9VHwz8"
      },
      "source": [
        "<br><br><br><br><br><br>\n",
        "### CORRELATION\n",
        "***\n",
        "\n",
        "1. It is the measure of the strength of the relation between two variables. How strongly two variables are connected is defined as the correlation. \n",
        "\n",
        "2. It depends upon two variables, change in one variable effect a change in second variable.\n",
        "\n",
        "3. Its value lies in the range of -1 and +1. r is called the Pearson's correlation coefficient.\n",
        "\n",
        "4. Is related to covariance by the given formula: \n",
        "\n",
        "$r= cov(x,y)/\\sigma_x \\sigma_y$\n",
        "\n",
        "- A correlation coefficient greater than zero indicates a positive relationship while a value less than zero signifies a negative relationship.\n",
        "- A value of zero indicates no relationship between the two variables being compared."
      ]
    },
    {
      "cell_type": "code",
      "execution_count": null,
      "metadata": {
        "id": "BGfdovGlHwz8",
        "outputId": "1f8a7c5f-b3dd-49ec-c801-c4c1358e6f11",
        "colab": {
          "base_uri": "https://localhost:8080/"
        }
      },
      "outputs": [
        {
          "output_type": "stream",
          "name": "stdout",
          "text": [
            "[[1.       0.967769]\n",
            " [0.967769 1.      ]]\n"
          ]
        }
      ],
      "source": [
        "# Return a correlation coefficient matrix\n",
        "print(np.corrcoef(z,y))"
      ]
    },
    {
      "cell_type": "markdown",
      "metadata": {
        "id": "oeD6RYntHwz-"
      },
      "source": [
        "### Thank You !!!"
      ]
    },
    {
      "cell_type": "code",
      "execution_count": null,
      "metadata": {
        "id": "aR9AyOXdHwz-"
      },
      "outputs": [],
      "source": [
        ""
      ]
    }
  ],
  "metadata": {
    "kernelspec": {
      "display_name": "Python 3",
      "language": "python",
      "name": "python3"
    },
    "language_info": {
      "codemirror_mode": {
        "name": "ipython",
        "version": 3
      },
      "file_extension": ".py",
      "mimetype": "text/x-python",
      "name": "python",
      "nbconvert_exporter": "python",
      "pygments_lexer": "ipython3",
      "version": "3.8.8"
    },
    "colab": {
      "name": "9Maret-Rabu-Module2_Section1_Lab1_Basic_Statistics.ipynb",
      "provenance": []
    }
  },
  "nbformat": 4,
  "nbformat_minor": 0
}