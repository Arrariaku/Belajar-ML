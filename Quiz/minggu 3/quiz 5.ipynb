{
 "cells": [
  {
   "cell_type": "code",
   "execution_count": 5,
   "metadata": {},
   "outputs": [
    {
     "name": "stdout",
     "output_type": "stream",
     "text": [
      "28.145095132914648\n"
     ]
    }
   ],
   "source": [
    "\n",
    "import math\n",
    "print((math.sqrt(175)) + (4 * (math.sqrt(7))) + (1/3) + (math.log(81, 3)))"
   ]
  },
  {
   "cell_type": "markdown",
   "metadata": {},
   "source": [
    "√175 + 4√7 + (1/3) + ³log 81"
   ]
  },
  {
   "cell_type": "code",
   "execution_count": 6,
   "metadata": {},
   "outputs": [
    {
     "ename": "Exception",
     "evalue": "number too bigger",
     "output_type": "error",
     "traceback": [
      "\u001b[1;31m---------------------------------------------------------------------------\u001b[0m",
      "\u001b[1;31mException\u001b[0m                                 Traceback (most recent call last)",
      "\u001b[1;32mc:\\Users\\M. ALANA\\Documents\\Belajar\\Quiz\\minggu 3\\quiz 5.ipynb Cell 3'\u001b[0m in \u001b[0;36m<module>\u001b[1;34m\u001b[0m\n\u001b[0;32m      <a href='vscode-notebook-cell:/c%3A/Users/M.%20ALANA/Documents/Belajar/Quiz/minggu%203/quiz%205.ipynb#ch0000003?line=2'>3</a>\u001b[0m     \u001b[39mprint\u001b[39m(\u001b[39m\"\u001b[39m\u001b[39m\"\u001b[39m)\n\u001b[0;32m      <a href='vscode-notebook-cell:/c%3A/Users/M.%20ALANA/Documents/Belajar/Quiz/minggu%203/quiz%205.ipynb#ch0000003?line=3'>4</a>\u001b[0m \u001b[39melse\u001b[39;00m:\n\u001b[1;32m----> <a href='vscode-notebook-cell:/c%3A/Users/M.%20ALANA/Documents/Belajar/Quiz/minggu%203/quiz%205.ipynb#ch0000003?line=4'>5</a>\u001b[0m     \u001b[39mraise\u001b[39;00m \u001b[39mException\u001b[39;00m(\u001b[39m\"\u001b[39m\u001b[39mnumber too bigger\u001b[39m\u001b[39m\"\u001b[39m)\n",
      "\u001b[1;31mException\u001b[0m: number too bigger"
     ]
    }
   ],
   "source": [
    "number = 5\n",
    "if number < 5:\n",
    "    print(\"\")\n",
    "else:\n",
    "    raise Exception(\"number too bigger\")"
   ]
  }
 ],
 "metadata": {
  "interpreter": {
   "hash": "2904d3540033ee027b348a050130884536716f76b96a3feeeacc97fd385b430a"
  },
  "kernelspec": {
   "display_name": "Python 3.10.2 64-bit",
   "language": "python",
   "name": "python3"
  },
  "language_info": {
   "codemirror_mode": {
    "name": "ipython",
    "version": 3
   },
   "file_extension": ".py",
   "mimetype": "text/x-python",
   "name": "python",
   "nbconvert_exporter": "python",
   "pygments_lexer": "ipython3",
   "version": "3.10.2"
  },
  "orig_nbformat": 4
 },
 "nbformat": 4,
 "nbformat_minor": 2
}
