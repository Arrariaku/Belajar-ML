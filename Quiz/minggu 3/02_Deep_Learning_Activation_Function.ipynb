{
  "cells": [
    {
      "cell_type": "code",
      "execution_count": 3,
      "metadata": {
        "id": "Wh72A2fFLm7u"
      },
      "outputs": [],
      "source": [
        "import numpy as np"
      ]
    },
    {
      "cell_type": "markdown",
      "metadata": {
        "id": "2CDYa3m9Lm7x"
      },
      "source": [
        "## Binary Step Function"
      ]
    },
    {
      "cell_type": "code",
      "execution_count": 4,
      "metadata": {
        "id": "Kvq4YdZsLm7y"
      },
      "outputs": [],
      "source": [
        "def binary_step(x):\n",
        "    \n",
        "    if x<0:\n",
        "        return 0\n",
        "    else:\n",
        "        return 1"
      ]
    },
    {
      "cell_type": "code",
      "execution_count": 5,
      "metadata": {
        "id": "U2MFngMuLm7y",
        "outputId": "908117a9-2b6c-4d4b-da56-b06ad284a1e3",
        "colab": {
          "base_uri": "https://localhost:8080/"
        }
      },
      "outputs": [
        {
          "output_type": "execute_result",
          "data": {
            "text/plain": [
              "(1, 0)"
            ]
          },
          "metadata": {},
          "execution_count": 5
        }
      ],
      "source": [
        "binary_step(5), binary_step(-10)"
      ]
    },
    {
      "cell_type": "markdown",
      "metadata": {
        "id": "vP0rMqm2Lm7z"
      },
      "source": [
        "## Linear Function"
      ]
    },
    {
      "cell_type": "code",
      "execution_count": 6,
      "metadata": {
        "id": "iOt1VGrQLm70"
      },
      "outputs": [],
      "source": [
        "def linear_function(x):\n",
        "    \n",
        "    return 2*x"
      ]
    },
    {
      "cell_type": "code",
      "execution_count": 7,
      "metadata": {
        "id": "Xgtcjc6CLm70",
        "outputId": "0bbd6255-b40a-400f-9c83-e914765ebed9",
        "colab": {
          "base_uri": "https://localhost:8080/"
        }
      },
      "outputs": [
        {
          "output_type": "execute_result",
          "data": {
            "text/plain": [
              "(10, -20)"
            ]
          },
          "metadata": {},
          "execution_count": 7
        }
      ],
      "source": [
        "linear_function(5), linear_function(-10)"
      ]
    },
    {
      "cell_type": "markdown",
      "metadata": {
        "id": "qMIk0LX2Lm71"
      },
      "source": [
        "## Sigmoid Function"
      ]
    },
    {
      "cell_type": "code",
      "execution_count": 8,
      "metadata": {
        "id": "9kC5r63QLm71"
      },
      "outputs": [],
      "source": [
        "def sigmoid_function(x):\n",
        "    \n",
        "    z = (1/(1 + np.exp(-x)))\n",
        "    \n",
        "    return z"
      ]
    },
    {
      "cell_type": "code",
      "execution_count": 9,
      "metadata": {
        "id": "Y-OTWRl4Lm72",
        "outputId": "8843f492-f6c4-477d-be86-3d31622e394b",
        "colab": {
          "base_uri": "https://localhost:8080/"
        }
      },
      "outputs": [
        {
          "output_type": "execute_result",
          "data": {
            "text/plain": [
              "(0.9933071490757153, 4.5397868702434395e-05)"
            ]
          },
          "metadata": {},
          "execution_count": 9
        }
      ],
      "source": [
        "sigmoid_function(5), sigmoid_function(-10)"
      ]
    },
    {
      "cell_type": "markdown",
      "metadata": {
        "id": "mlV1JFL-Lm72"
      },
      "source": [
        "## TanH Function"
      ]
    },
    {
      "cell_type": "code",
      "execution_count": 10,
      "metadata": {
        "id": "jWMpLgeRLm72"
      },
      "outputs": [],
      "source": [
        "def tanh_function(x):\n",
        "    \n",
        "    z = (2/(1 + np.exp(-2*x))) -1\n",
        "    \n",
        "    return z"
      ]
    },
    {
      "cell_type": "code",
      "execution_count": 11,
      "metadata": {
        "id": "l_mANPe8Lm73",
        "outputId": "b302a37b-89d3-4af3-82e6-1253efa55cc9",
        "colab": {
          "base_uri": "https://localhost:8080/"
        }
      },
      "outputs": [
        {
          "output_type": "execute_result",
          "data": {
            "text/plain": [
              "(0.9999092042625952, -0.9999999958776927)"
            ]
          },
          "metadata": {},
          "execution_count": 11
        }
      ],
      "source": [
        "tanh_function(5), tanh_function(-10)"
      ]
    },
    {
      "cell_type": "markdown",
      "metadata": {
        "id": "-cPWXPLNLm73"
      },
      "source": [
        "## ReLU Function"
      ]
    },
    {
      "cell_type": "code",
      "execution_count": 12,
      "metadata": {
        "id": "Rm3oaGCXLm73"
      },
      "outputs": [],
      "source": [
        "def relu_function(x):\n",
        "    \n",
        "    if x<0:\n",
        "        return 0\n",
        "    else:\n",
        "        return x"
      ]
    },
    {
      "cell_type": "code",
      "execution_count": null,
      "metadata": {
        "id": "2r1btHm3Lm74",
        "outputId": "c3a621c3-e63a-486a-ee01-3b51b16182f0"
      },
      "outputs": [
        {
          "data": {
            "text/plain": [
              "(5, 0)"
            ]
          },
          "execution_count": 11,
          "metadata": {},
          "output_type": "execute_result"
        }
      ],
      "source": [
        "relu_function(5), relu_function(-10)"
      ]
    },
    {
      "cell_type": "markdown",
      "metadata": {
        "id": "hxmIroLlLm74"
      },
      "source": [
        "## Leaky ReLU Function"
      ]
    },
    {
      "cell_type": "code",
      "execution_count": 13,
      "metadata": {
        "id": "StRjW0yxLm74"
      },
      "outputs": [],
      "source": [
        "def leaky_relu_function(x):\n",
        "    \n",
        "    if x<0:\n",
        "        return 0.01*x\n",
        "    else:\n",
        "        return x"
      ]
    },
    {
      "cell_type": "code",
      "execution_count": null,
      "metadata": {
        "id": "zBtObeI9Lm74",
        "outputId": "cb04018e-a5e2-48fa-d76d-a1a21f8dcf9f"
      },
      "outputs": [
        {
          "data": {
            "text/plain": [
              "(5, -0.1)"
            ]
          },
          "execution_count": 13,
          "metadata": {},
          "output_type": "execute_result"
        }
      ],
      "source": [
        "leaky_relu_function(5), leaky_relu_function(-10)"
      ]
    },
    {
      "cell_type": "markdown",
      "metadata": {
        "id": "HkKzUdOiLm75"
      },
      "source": [
        "## Softmax Function"
      ]
    },
    {
      "cell_type": "code",
      "execution_count": 14,
      "metadata": {
        "id": "roRx96btLm75"
      },
      "outputs": [],
      "source": [
        "def softmax_function(x):\n",
        "    \n",
        "    z = np.exp(x)\n",
        "    logits = z/z.sum()\n",
        "    \n",
        "    return logits"
      ]
    },
    {
      "cell_type": "code",
      "execution_count": 15,
      "metadata": {
        "scrolled": true,
        "id": "J82crMo0Lm75",
        "outputId": "a9929a91-6020-4081-b447-bb8c73ee8c21",
        "colab": {
          "base_uri": "https://localhost:8080/"
        }
      },
      "outputs": [
        {
          "output_type": "execute_result",
          "data": {
            "text/plain": [
              "array([0.08021815, 0.11967141, 0.80011044])"
            ]
          },
          "metadata": {},
          "execution_count": 15
        }
      ],
      "source": [
        "softmax_function([0.8, 1.2, 3.1])"
      ]
    },
    {
      "cell_type": "markdown",
      "metadata": {
        "id": "rj4F6BFILm75"
      },
      "source": [
        "## eLU Function"
      ]
    },
    {
      "cell_type": "code",
      "execution_count": 16,
      "metadata": {
        "id": "kVT0mJKILm75"
      },
      "outputs": [],
      "source": [
        "def elu_function(x, a):\n",
        "    \n",
        "    if x<0:\n",
        "        return a*(np.exp(x)-1)\n",
        "    else:\n",
        "        return x"
      ]
    },
    {
      "cell_type": "code",
      "execution_count": 17,
      "metadata": {
        "id": "tR7DmyXbLm76",
        "outputId": "ff3edce0-2758-4f4e-a5a4-69552a7053c7",
        "colab": {
          "base_uri": "https://localhost:8080/"
        }
      },
      "outputs": [
        {
          "output_type": "execute_result",
          "data": {
            "text/plain": [
              "(5, -0.09999546000702375)"
            ]
          },
          "metadata": {},
          "execution_count": 17
        }
      ],
      "source": [
        "elu_function(5, 0.1), elu_function(-10, 0.1)"
      ]
    },
    {
      "cell_type": "markdown",
      "metadata": {
        "id": "nKOoU7n9Lm76"
      },
      "source": [
        "## Swish Function"
      ]
    },
    {
      "cell_type": "code",
      "execution_count": 18,
      "metadata": {
        "id": "8WJDv1ZuLm76"
      },
      "outputs": [],
      "source": [
        "def swish_function(x):\n",
        "    \n",
        "    return x/(1-np.exp(-x))"
      ]
    },
    {
      "cell_type": "code",
      "execution_count": 19,
      "metadata": {
        "scrolled": false,
        "id": "pmHgaqyoLm76",
        "outputId": "d6f209a1-762d-4447-c7a5-f4fbebebda38",
        "colab": {
          "base_uri": "https://localhost:8080/"
        }
      },
      "outputs": [
        {
          "output_type": "execute_result",
          "data": {
            "text/plain": [
              "(5.033918274531521, 0.00045401991009687764)"
            ]
          },
          "metadata": {},
          "execution_count": 19
        }
      ],
      "source": [
        "swish_function(5), swish_function(-10)"
      ]
    },
    {
      "cell_type": "markdown",
      "metadata": {
        "id": "G83It6tWLm76"
      },
      "source": [
        "---"
      ]
    }
  ],
  "metadata": {
    "kernelspec": {
      "display_name": "Python 3",
      "language": "python",
      "name": "python3"
    },
    "language_info": {
      "codemirror_mode": {
        "name": "ipython",
        "version": 3
      },
      "file_extension": ".py",
      "mimetype": "text/x-python",
      "name": "python",
      "nbconvert_exporter": "python",
      "pygments_lexer": "ipython3",
      "version": "3.8.3"
    },
    "colab": {
      "name": "02. Deep Learning - Activation Function.ipynb",
      "provenance": []
    }
  },
  "nbformat": 4,
  "nbformat_minor": 0
}