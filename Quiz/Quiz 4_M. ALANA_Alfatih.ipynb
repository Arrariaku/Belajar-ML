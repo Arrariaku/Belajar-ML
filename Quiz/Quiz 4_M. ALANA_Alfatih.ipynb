{
 "cells": [
  {
   "cell_type": "code",
   "execution_count": 4,
   "metadata": {},
   "outputs": [
    {
     "name": "stdout",
     "output_type": "stream",
     "text": [
      "Halo hai  Halo hai  Halo hai  Halo hai  Halo hai  Halo hai  Halo hai  Halo hai  Halo hai  Halo hai  Halo hai  Halo hai  Halo hai  Halo hai  Halo hai  Halo hai  Halo hai  Halo hai  Halo hai  Halo hai  Halo hai  Halo hai  Halo hai  Halo hai  Halo hai  Halo hai  Halo hai  Halo hai  Halo hai  Halo hai  Halo hai  Halo hai  Halo hai  Halo hai  Halo hai  Halo hai  Halo hai  Halo hai  Halo hai  Halo hai  Halo hai  Halo hai  Halo hai  Halo hai  Halo hai  Halo hai  Halo hai  Halo hai  Halo hai  Halo hai  Halo hai  Halo hai  Halo hai  Halo hai  Halo hai  Halo hai  Halo hai  Halo hai  Halo hai  Halo hai  Halo hai  Halo hai  Halo hai  Halo hai  Halo hai  Halo hai  Halo hai  Halo hai  Halo hai  Halo hai  Halo hai  Halo hai  Halo hai  Halo hai  Halo hai  Halo hai  Halo hai  Halo hai  Halo hai  Halo hai  Halo hai  Halo hai  Halo hai  Halo hai  Halo hai  Halo hai  Halo hai  Halo hai  Halo hai  Halo hai  Halo hai  Halo hai  Halo hai  Halo hai  Halo hai  Halo hai  Halo hai  Halo hai  Halo hai  Halo hai  "
     ]
    }
   ],
   "source": [
    "for i in range(100):\n",
    "    print(\"Halo hai \", end = \" \")\n",
    " "
   ]
  },
  {
   "cell_type": "code",
   "execution_count": null,
   "metadata": {},
   "outputs": [],
   "source": [
    "while True:\n",
    "    pemain1 = input(\"Pilihan: \")\n",
    "    pemain2 = input(\"Pilihan: \")\n",
    "\n",
    "    if pemain1.lower() == \"gunting\":   \n",
    "        if pemain2.lower() == \"gunting\":\n",
    "            print(\"Seri!\")\n",
    "        elif pemain2.lower() == \"batu\":\n",
    "            print(\"Pemain 2 menang!!\")\n",
    "        elif pemain2.lower() == \"kertas\":\n",
    "            print(\"Pemain 1 menang!!\")\n",
    "        else:\n",
    "            print(\"Pilihan Pemain 1 atau 2 tidak tepat!!\")\n",
    "    elif pemain1.lower() == \"batu\":\n",
    "        if pemain2.lower() == \"gunting\":\n",
    "            print(\"Pemain 1 menang!!\")\n",
    "        elif pemain2.lower() == \"batu\":\n",
    "            print(\"Seri!!\")\n",
    "        elif pemain2.lower() == \"kertas\":\n",
    "            print(\"Pemain 2 menang!!\")\n",
    "        else:\n",
    "            print(\"Pilihan Pemain 1 atau 2 tidak tepat!!\")\n",
    "    elif pemain1.lower() == \"kertas\":\n",
    "        if pemain2.lower() == \"gunting\":\n",
    "            print(\"Pemain 2 menang!!\")\n",
    "        elif pemain2.lower() == \"batu\":\n",
    "            print(\"Pemain 1 menang!!\")\n",
    "        elif pemain2.lower() == \"kertas\":\n",
    "            print(\"Seri!!\")\n",
    "        else:\n",
    "            print(\"Pilihan Pemain 1 atau 2 tidak tepat!!\")\n",
    "    else:\n",
    "        print(\"Pilihan Pemain 1 atau 2 tidak tepat!!\")"
   ]
  },
  {
   "cell_type": "markdown",
   "metadata": {},
   "source": [
    "Pemain 1\tPemain 2\tPemenang\n",
    "\n",
    "batu\tgunting\tPemain 1\n",
    "\n",
    "gunting\tgunting\tSeri\n",
    "\n",
    "Kertas\tgunting\tPemain 2\n",
    "\n",
    "Gunting\tBatu\tPemain 2\n",
    "\n",
    "Batu\tbatu\tSeri\n",
    "\n",
    "Kertas\tbatu\tPemain 1\n",
    "\n",
    "Gunting\tkertas\tPemain 1\n",
    "\n",
    "Batu\tkertas\tPemain 2\n",
    "\n",
    "kertas\tkertas\tSeri\n"
   ]
  }
 ],
 "metadata": {
  "interpreter": {
   "hash": "2904d3540033ee027b348a050130884536716f76b96a3feeeacc97fd385b430a"
  },
  "kernelspec": {
   "display_name": "Python 3.10.2 64-bit",
   "language": "python",
   "name": "python3"
  },
  "language_info": {
   "codemirror_mode": {
    "name": "ipython",
    "version": 3
   },
   "file_extension": ".py",
   "mimetype": "text/x-python",
   "name": "python",
   "nbconvert_exporter": "python",
   "pygments_lexer": "ipython3",
   "version": "3.10.2"
  },
  "orig_nbformat": 4
 },
 "nbformat": 4,
 "nbformat_minor": 2
}
