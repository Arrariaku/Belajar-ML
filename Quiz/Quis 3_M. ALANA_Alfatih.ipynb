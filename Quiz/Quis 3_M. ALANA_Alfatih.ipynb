{
 "cells": [
  {
   "cell_type": "code",
   "execution_count": 36,
   "metadata": {},
   "outputs": [],
   "source": [
    "import random"
   ]
  },
  {
   "cell_type": "code",
   "execution_count": 38,
   "metadata": {},
   "outputs": [
    {
     "name": "stdout",
     "output_type": "stream",
     "text": [
      "M. Alana\n",
      "Panjang M. Alana adalah 8\n"
     ]
    }
   ],
   "source": [
    "if __name__ == \"__main__\":\n",
    "    nama = \"M. Alana\"\n",
    "    print(nama)\n",
    "    print(f\"Panjang {nama} adalah {len(nama)}\")"
   ]
  },
  {
   "cell_type": "code",
   "execution_count": 39,
   "metadata": {},
   "outputs": [
    {
     "name": "stdout",
     "output_type": "stream",
     "text": [
      "Halo M. Alana, apa kabar?\n",
      "hallo Alana, apa kabar?\n"
     ]
    }
   ],
   "source": [
    "    panggilan = nama\n",
    "    print(f\"Halo {panggilan}, apa kabar?\")\n",
    "    print(f\"hallo {panggilan[3:8]}, apa kabar?\")"
   ]
  },
  {
   "cell_type": "code",
   "execution_count": 40,
   "metadata": {},
   "outputs": [
    {
     "name": "stdout",
     "output_type": "stream",
     "text": [
      "a = 5\n",
      "b = 8\n",
      "c = 1\n"
     ]
    }
   ],
   "source": [
    "    a = random.randint(1, 10)\n",
    "    print(f\"a = {a}\")\n",
    "\n",
    "    b = random.randint(1, 10)\n",
    "    print(f\"b = {b}\")\n",
    "\n",
    "    c = random.randint(1, 10)\n",
    "    print(f\"c = {c}\")"
   ]
  },
  {
   "cell_type": "code",
   "execution_count": 49,
   "metadata": {},
   "outputs": [
    {
     "name": "stdout",
     "output_type": "stream",
     "text": [
      "16\n",
      "-5\n",
      "1.2\n",
      "100\n"
     ]
    }
   ],
   "source": [
    "    tambah = a + b\n",
    "    kurang = c - b\n",
    "    bagi = a / c\n",
    "    kali = b * b\n",
    "    \n",
    "    print(tambah)\n",
    "    print(kurang)\n",
    "    print(bagi)\n",
    "    print(kali)"
   ]
  },
  {
   "cell_type": "code",
   "execution_count": 52,
   "metadata": {},
   "outputs": [
    {
     "name": "stdout",
     "output_type": "stream",
     "text": [
      "d = 1.4392838695093721\n",
      "e = 5.856033644858298\n",
      "f = 7.549010483667398\n"
     ]
    }
   ],
   "source": [
    "    d = random.uniform(1.0, 10.0)\n",
    "    print(f\"d = {d}\")\n",
    "\n",
    "    e = random.uniform(1.0, 10.0)\n",
    "    print(f\"e = {e}\")\n",
    "\n",
    "    f = random.uniform(1.0, 10.0)\n",
    "    print(f\"f = {f}\")"
   ]
  },
  {
   "cell_type": "code",
   "execution_count": 53,
   "metadata": {},
   "outputs": [
    {
     "name": "stdout",
     "output_type": "stream",
     "text": [
      "7.295317514367671\n",
      "1.6929768388090993\n",
      "0.19065861315510468\n",
      "34.29313004971237\n"
     ]
    }
   ],
   "source": [
    "    tambah = d + e\n",
    "    kurang = f - e\n",
    "    bagi = d / f\n",
    "    kali = e * e\n",
    "    \n",
    "    print(tambah)\n",
    "    print(kurang)\n",
    "    print(bagi)\n",
    "    print(kali) "
   ]
  }
 ],
 "metadata": {
  "interpreter": {
   "hash": "2904d3540033ee027b348a050130884536716f76b96a3feeeacc97fd385b430a"
  },
  "kernelspec": {
   "display_name": "Python 3.10.2 64-bit",
   "language": "python",
   "name": "python3"
  },
  "language_info": {
   "codemirror_mode": {
    "name": "ipython",
    "version": 3
   },
   "file_extension": ".py",
   "mimetype": "text/x-python",
   "name": "python",
   "nbconvert_exporter": "python",
   "pygments_lexer": "ipython3",
   "version": "3.10.2"
  },
  "orig_nbformat": 4
 },
 "nbformat": 4,
 "nbformat_minor": 2
}
